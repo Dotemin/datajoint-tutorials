{
 "cells": [
  {
   "cell_type": "markdown",
   "metadata": {},
   "source": [
    "# Define"
   ]
  },
  {
   "cell_type": "code",
   "execution_count": 1,
   "metadata": {
    "slideshow": {
     "slide_type": "subslide"
    }
   },
   "outputs": [
    {
     "name": "stderr",
     "output_type": "stream",
     "text": [
      "[2023-10-24 22:32:02,970][INFO]: Connecting root@fakeservices.datajoint.io:3306\n",
      "[2023-10-24 22:32:02,977][INFO]: Connected root@fakeservices.datajoint.io:3306\n"
     ]
    }
   ],
   "source": [
    "import datajoint as dj\n",
    "schema = dj.schema('university')"
   ]
  },
  {
   "cell_type": "code",
   "execution_count": 2,
   "metadata": {},
   "outputs": [],
   "source": [
    "@schema\n",
    "class Student(dj.Manual):\n",
    "    definition = \"\"\"\n",
    "    student_id : int unsigned   # university-wide ID number\n",
    "    ---\n",
    "    first_name      : varchar(40)\n",
    "    last_name       : varchar(40)\n",
    "    sex             : enum('F', 'M', 'U')\n",
    "    date_of_birth   : date\n",
    "    home_address    : varchar(120) # mailing street address\n",
    "    home_city       : varchar(60)  # mailing address\n",
    "    home_state      : char(2)      # US state acronym: e.g. OH\n",
    "    home_zip        : char(10)     # zipcode e.g. 93979-4979\n",
    "    home_phone      : varchar(20)  # e.g. 414.657.6883x0881\n",
    "    \"\"\""
   ]
  },
  {
   "cell_type": "code",
   "execution_count": 3,
   "metadata": {},
   "outputs": [],
   "source": [
    "@schema\n",
    "class Department(dj.Manual):\n",
    "    definition = \"\"\"\n",
    "    dept : varchar(6)   # abbreviated department name, e.g. BIOL\n",
    "    ---\n",
    "    dept_name    : varchar(200)  # full department name\n",
    "    dept_address : varchar(200)  # mailing address\n",
    "    dept_phone   : varchar(20)\n",
    "    \"\"\""
   ]
  },
  {
   "cell_type": "code",
   "execution_count": 4,
   "metadata": {},
   "outputs": [],
   "source": [
    "@schema\n",
    "class StudentMajor(dj.Manual):\n",
    "    definition = \"\"\"\n",
    "    -> Student\n",
    "    ---\n",
    "    -> Department\n",
    "    declare_date :  date  # when student declared her major\n",
    "    \"\"\""
   ]
  },
  {
   "cell_type": "code",
   "execution_count": 5,
   "metadata": {},
   "outputs": [
    {
     "data": {
      "image/svg+xml": [
       "<svg xmlns=\"http://www.w3.org/2000/svg\" xmlns:xlink=\"http://www.w3.org/1999/xlink\" width=\"163pt\" height=\"114pt\" viewBox=\"0.00 0.00 162.50 114.00\">\n",
       "<g id=\"graph0\" class=\"graph\" transform=\"scale(1 1) rotate(0) translate(4 110)\">\n",
       "<title>%3</title>\n",
       "<polygon fill=\"white\" stroke=\"transparent\" points=\"-4,4 -4,-110 158.5,-110 158.5,4 -4,4\"/>\n",
       "<!-- StudentMajor -->\n",
       "<g id=\"node1\" class=\"node\">\n",
       "<title>StudentMajor</title>\n",
       "<g id=\"a_node1\"><a xlink:title=\"→ Student\r------------------------------\r→ Department\rdeclare_date         \r\">\n",
       "<polygon fill=\"#00ff00\" fill-opacity=\"0.188235\" stroke=\"#00ff00\" stroke-opacity=\"0.188235\" points=\"126.5,-35 38.5,-35 38.5,0 126.5,0 126.5,-35\"/>\n",
       "<text text-anchor=\"middle\" x=\"82.5\" y=\"-14.4\" font-family=\"arial\" font-size=\"12.00\" fill=\"darkgreen\">StudentMajor</text>\n",
       "</a>\n",
       "</g>\n",
       "</g>\n",
       "<!-- Department -->\n",
       "<g id=\"node2\" class=\"node\">\n",
       "<title>Department</title>\n",
       "<g id=\"a_node2\"><a xlink:title=\"dept                 \r------------------------------\rdept_name            \rdept_address         \rdept_phone           \r\">\n",
       "<polygon fill=\"#00ff00\" fill-opacity=\"0.188235\" stroke=\"#00ff00\" stroke-opacity=\"0.188235\" points=\"79,-106 0,-106 0,-71 79,-71 79,-106\"/>\n",
       "<text text-anchor=\"start\" x=\"8\" y=\"-86.4\" font-family=\"arial\" text-decoration=\"underline\" font-size=\"12.00\" fill=\"darkgreen\">Department</text>\n",
       "</a>\n",
       "</g>\n",
       "</g>\n",
       "<!-- Department&#45;&gt;StudentMajor -->\n",
       "<g id=\"edge1\" class=\"edge\">\n",
       "<title>Department-&gt;StudentMajor</title>\n",
       "<path fill=\"none\" stroke=\"#000000\" stroke-width=\"0.75\" stroke-dasharray=\"5,2\" stroke-opacity=\"0.250980\" d=\"M49.91,-70.8C56.67,-59.95 65.45,-45.87 72.19,-35.05\"/>\n",
       "</g>\n",
       "<!-- Student -->\n",
       "<g id=\"node3\" class=\"node\">\n",
       "<title>Student</title>\n",
       "<g id=\"a_node3\"><a xlink:title=\"student_id           \r------------------------------\rfirst_name           \rlast_name            \rsex                  \rdate_of_birth        \rhome_address         \rhome_city            \rhome_state           \rhome_zip             \rhome_phone           \r\">\n",
       "<polygon fill=\"#00ff00\" fill-opacity=\"0.188235\" stroke=\"#00ff00\" stroke-opacity=\"0.188235\" points=\"154.5,-106 96.5,-106 96.5,-71 154.5,-71 154.5,-106\"/>\n",
       "<text text-anchor=\"start\" x=\"104.5\" y=\"-86.4\" font-family=\"arial\" text-decoration=\"underline\" font-size=\"12.00\" fill=\"darkgreen\">Student</text>\n",
       "</a>\n",
       "</g>\n",
       "</g>\n",
       "<!-- Student&#45;&gt;StudentMajor -->\n",
       "<g id=\"edge2\" class=\"edge\">\n",
       "<title>Student-&gt;StudentMajor</title>\n",
       "<path fill=\"none\" stroke=\"#000000\" stroke-width=\"2\" stroke-opacity=\"0.250980\" d=\"M115.09,-70.8C108.33,-59.95 99.55,-45.87 92.81,-35.05\"/>\n",
       "</g>\n",
       "</g>\n",
       "</svg>"
      ],
      "text/plain": [
       "<datajoint.diagram.Diagram at 0x7fba3d7f3fd0>"
      ]
     },
     "execution_count": 5,
     "metadata": {},
     "output_type": "execute_result"
    }
   ],
   "source": [
    "dj.Diagram(schema)"
   ]
  },
  {
   "cell_type": "code",
   "execution_count": 6,
   "metadata": {
    "slideshow": {
     "slide_type": "slide"
    }
   },
   "outputs": [],
   "source": [
    "@schema\n",
    "class Course(dj.Manual):\n",
    "    definition = \"\"\"\n",
    "    -> Department\n",
    "    course  : int unsigned   # course number, e.g. 1010\n",
    "    ---\n",
    "    course_name :  varchar(200)  # e.g. \"Neurobiology of Sensation and Movement.\"\n",
    "    credits     :  decimal(3,1)  # number of credits earned by completing the course\n",
    "    \"\"\"\n",
    "    \n",
    "@schema\n",
    "class Term(dj.Manual):\n",
    "    definition = \"\"\"\n",
    "    term_year : year\n",
    "    term      : enum('Spring', 'Summer', 'Fall')\n",
    "    \"\"\"\n",
    "\n",
    "@schema\n",
    "class Section(dj.Manual):\n",
    "    definition = \"\"\"\n",
    "    -> Course\n",
    "    -> Term\n",
    "    section : char(1)\n",
    "    ---\n",
    "    auditorium   :  varchar(12)\n",
    "    \"\"\"\n",
    "    \n",
    "@schema\n",
    "class CurrentTerm(dj.Manual):\n",
    "    definition = \"\"\"\n",
    "    -> Term\n",
    "    \"\"\"\n",
    "\n",
    "@schema\n",
    "class Enroll(dj.Manual):\n",
    "    definition = \"\"\"\n",
    "    -> Student\n",
    "    -> Section\n",
    "    \"\"\"\n",
    "\n",
    "@schema\n",
    "class LetterGrade(dj.Manual):\n",
    "    definition = \"\"\"\n",
    "    grade : char(2)\n",
    "    ---\n",
    "    points : decimal(3,2)\n",
    "    \"\"\"\n",
    "\n",
    "@schema\n",
    "class Grade(dj.Manual):\n",
    "    definition = \"\"\"\n",
    "    -> Enroll\n",
    "    ---\n",
    "    -> LetterGrade\n",
    "    \"\"\""
   ]
  },
  {
   "cell_type": "code",
   "execution_count": 7,
   "metadata": {},
   "outputs": [
    {
     "data": {
      "image/svg+xml": [
       "<svg xmlns=\"http://www.w3.org/2000/svg\" xmlns:xlink=\"http://www.w3.org/1999/xlink\" width=\"288pt\" height=\"327pt\" viewBox=\"0.00 0.00 287.50 327.00\">\n",
       "<g id=\"graph0\" class=\"graph\" transform=\"scale(1 1) rotate(0) translate(4 323)\">\n",
       "<title>%3</title>\n",
       "<polygon fill=\"white\" stroke=\"transparent\" points=\"-4,4 -4,-323 283.5,-323 283.5,4 -4,4\"/>\n",
       "<!-- Department -->\n",
       "<g id=\"node1\" class=\"node\">\n",
       "<title>Department</title>\n",
       "<g id=\"a_node1\"><a xlink:title=\"dept                 \r------------------------------\rdept_name            \rdept_address         \rdept_phone           \r\">\n",
       "<polygon fill=\"#00ff00\" fill-opacity=\"0.188235\" stroke=\"#00ff00\" stroke-opacity=\"0.188235\" points=\"174.5,-319 95.5,-319 95.5,-284 174.5,-284 174.5,-319\"/>\n",
       "<text text-anchor=\"start\" x=\"103.5\" y=\"-299.4\" font-family=\"arial\" text-decoration=\"underline\" font-size=\"12.00\" fill=\"darkgreen\">Department</text>\n",
       "</a>\n",
       "</g>\n",
       "</g>\n",
       "<!-- StudentMajor -->\n",
       "<g id=\"node3\" class=\"node\">\n",
       "<title>StudentMajor</title>\n",
       "<g id=\"a_node3\"><a xlink:title=\"→ Student\r------------------------------\r→ Department\rdeclare_date         \r\">\n",
       "<polygon fill=\"#00ff00\" fill-opacity=\"0.188235\" stroke=\"#00ff00\" stroke-opacity=\"0.188235\" points=\"109,-248 21,-248 21,-213 109,-213 109,-248\"/>\n",
       "<text text-anchor=\"middle\" x=\"65\" y=\"-227.4\" font-family=\"arial\" font-size=\"12.00\" fill=\"darkgreen\">StudentMajor</text>\n",
       "</a>\n",
       "</g>\n",
       "</g>\n",
       "<!-- Department&#45;&gt;StudentMajor -->\n",
       "<g id=\"edge1\" class=\"edge\">\n",
       "<title>Department-&gt;StudentMajor</title>\n",
       "<path fill=\"none\" stroke=\"#000000\" stroke-width=\"0.75\" stroke-dasharray=\"5,2\" stroke-opacity=\"0.250980\" d=\"M118.05,-283.8C107.05,-272.95 92.76,-258.87 81.79,-248.05\"/>\n",
       "</g>\n",
       "<!-- Course -->\n",
       "<g id=\"node4\" class=\"node\">\n",
       "<title>Course</title>\n",
       "<g id=\"a_node4\"><a xlink:title=\"→ Department\rcourse               \r------------------------------\rcourse_name          \rcredits              \r\">\n",
       "<polygon fill=\"#00ff00\" fill-opacity=\"0.188235\" stroke=\"#00ff00\" stroke-opacity=\"0.188235\" points=\"183,-248 127,-248 127,-213 183,-213 183,-248\"/>\n",
       "<text text-anchor=\"start\" x=\"135\" y=\"-228.4\" font-family=\"arial\" text-decoration=\"underline\" font-size=\"12.00\" fill=\"darkgreen\">Course</text>\n",
       "</a>\n",
       "</g>\n",
       "</g>\n",
       "<!-- Department&#45;&gt;Course -->\n",
       "<g id=\"edge2\" class=\"edge\">\n",
       "<title>Department-&gt;Course</title>\n",
       "<path fill=\"none\" stroke=\"#000000\" stroke-width=\"0.75\" stroke-opacity=\"0.250980\" d=\"M139.84,-283.8C142.99,-272.95 147.07,-258.87 150.2,-248.05\"/>\n",
       "</g>\n",
       "<!-- Term -->\n",
       "<g id=\"node2\" class=\"node\">\n",
       "<title>Term</title>\n",
       "<g id=\"a_node2\"><a xlink:title=\"term_year            \rterm                 \r\">\n",
       "<polygon fill=\"#00ff00\" fill-opacity=\"0.188235\" stroke=\"#00ff00\" stroke-opacity=\"0.188235\" points=\"254.5,-248 211.5,-248 211.5,-213 254.5,-213 254.5,-248\"/>\n",
       "<text text-anchor=\"start\" x=\"219.5\" y=\"-228.4\" font-family=\"arial\" text-decoration=\"underline\" font-size=\"12.00\" fill=\"darkgreen\">Term</text>\n",
       "</a>\n",
       "</g>\n",
       "</g>\n",
       "<!-- CurrentTerm -->\n",
       "<g id=\"node5\" class=\"node\">\n",
       "<title>CurrentTerm</title>\n",
       "<g id=\"a_node5\"><a xlink:title=\"→ Term\r\">\n",
       "<polygon fill=\"#00ff00\" fill-opacity=\"0.188235\" stroke=\"#00ff00\" stroke-opacity=\"0.188235\" points=\"279.5,-177 196.5,-177 196.5,-142 279.5,-142 279.5,-177\"/>\n",
       "<text text-anchor=\"middle\" x=\"238\" y=\"-156.4\" font-family=\"arial\" font-size=\"12.00\" fill=\"darkgreen\">CurrentTerm</text>\n",
       "</a>\n",
       "</g>\n",
       "</g>\n",
       "<!-- Term&#45;&gt;CurrentTerm -->\n",
       "<g id=\"edge3\" class=\"edge\">\n",
       "<title>Term-&gt;CurrentTerm</title>\n",
       "<path fill=\"none\" stroke=\"#000000\" stroke-width=\"2\" stroke-opacity=\"0.250980\" d=\"M234.21,-212.8C235,-201.95 236.02,-187.87 236.8,-177.05\"/>\n",
       "</g>\n",
       "<!-- Section -->\n",
       "<g id=\"node8\" class=\"node\">\n",
       "<title>Section</title>\n",
       "<g id=\"a_node8\"><a xlink:title=\"→ Course\r→ Term\rsection              \r------------------------------\rauditorium           \r\">\n",
       "<polygon fill=\"#00ff00\" fill-opacity=\"0.188235\" stroke=\"#00ff00\" stroke-opacity=\"0.188235\" points=\"178.5,-177 121.5,-177 121.5,-142 178.5,-142 178.5,-177\"/>\n",
       "<text text-anchor=\"start\" x=\"129.5\" y=\"-157.4\" font-family=\"arial\" text-decoration=\"underline\" font-size=\"12.00\" fill=\"darkgreen\">Section</text>\n",
       "</a>\n",
       "</g>\n",
       "</g>\n",
       "<!-- Term&#45;&gt;Section -->\n",
       "<g id=\"edge4\" class=\"edge\">\n",
       "<title>Term-&gt;Section</title>\n",
       "<path fill=\"none\" stroke=\"#000000\" stroke-width=\"0.75\" stroke-opacity=\"0.250980\" d=\"M212.91,-212.8C199.86,-201.95 182.92,-187.87 169.91,-177.05\"/>\n",
       "</g>\n",
       "<!-- Course&#45;&gt;Section -->\n",
       "<g id=\"edge5\" class=\"edge\">\n",
       "<title>Course-&gt;Section</title>\n",
       "<path fill=\"none\" stroke=\"#000000\" stroke-width=\"0.75\" stroke-opacity=\"0.250980\" d=\"M153.79,-212.8C153,-201.95 151.98,-187.87 151.2,-177.05\"/>\n",
       "</g>\n",
       "<!-- Grade -->\n",
       "<g id=\"node6\" class=\"node\">\n",
       "<title>Grade</title>\n",
       "<g id=\"a_node6\"><a xlink:title=\"→ Enroll\r------------------------------\r→ LetterGrade\r\">\n",
       "<polygon fill=\"#00ff00\" fill-opacity=\"0.188235\" stroke=\"#00ff00\" stroke-opacity=\"0.188235\" points=\"130,-35 80,-35 80,0 130,0 130,-35\"/>\n",
       "<text text-anchor=\"middle\" x=\"105\" y=\"-14.4\" font-family=\"arial\" font-size=\"12.00\" fill=\"darkgreen\">Grade</text>\n",
       "</a>\n",
       "</g>\n",
       "</g>\n",
       "<!-- Enroll -->\n",
       "<g id=\"node7\" class=\"node\">\n",
       "<title>Enroll</title>\n",
       "<g id=\"a_node7\"><a xlink:title=\"→ Student\r→ Section\r\">\n",
       "<polygon fill=\"#00ff00\" fill-opacity=\"0.188235\" stroke=\"#00ff00\" stroke-opacity=\"0.188235\" points=\"88,-106 40,-106 40,-71 88,-71 88,-106\"/>\n",
       "<text text-anchor=\"middle\" x=\"64\" y=\"-85.4\" font-family=\"arial\" font-size=\"12.00\" fill=\"darkgreen\">Enroll</text>\n",
       "</a>\n",
       "</g>\n",
       "</g>\n",
       "<!-- Enroll&#45;&gt;Grade -->\n",
       "<g id=\"edge6\" class=\"edge\">\n",
       "<title>Enroll-&gt;Grade</title>\n",
       "<path fill=\"none\" stroke=\"#000000\" stroke-width=\"2\" stroke-opacity=\"0.250980\" d=\"M73.92,-70.8C80.37,-59.95 88.74,-45.87 95.17,-35.05\"/>\n",
       "</g>\n",
       "<!-- Section&#45;&gt;Enroll -->\n",
       "<g id=\"edge7\" class=\"edge\">\n",
       "<title>Section-&gt;Enroll</title>\n",
       "<path fill=\"none\" stroke=\"#000000\" stroke-width=\"0.75\" stroke-opacity=\"0.250980\" d=\"M129.18,-141.8C115.66,-130.95 98.11,-116.87 84.63,-106.05\"/>\n",
       "</g>\n",
       "<!-- LetterGrade -->\n",
       "<g id=\"node9\" class=\"node\">\n",
       "<title>LetterGrade</title>\n",
       "<g id=\"a_node9\"><a xlink:title=\"grade                \r------------------------------\rpoints               \r\">\n",
       "<polygon fill=\"#00ff00\" fill-opacity=\"0.188235\" stroke=\"#00ff00\" stroke-opacity=\"0.188235\" points=\"186,-106 106,-106 106,-71 186,-71 186,-106\"/>\n",
       "<text text-anchor=\"start\" x=\"114\" y=\"-86.4\" font-family=\"arial\" text-decoration=\"underline\" font-size=\"12.00\" fill=\"darkgreen\">LetterGrade</text>\n",
       "</a>\n",
       "</g>\n",
       "</g>\n",
       "<!-- LetterGrade&#45;&gt;Grade -->\n",
       "<g id=\"edge8\" class=\"edge\">\n",
       "<title>LetterGrade-&gt;Grade</title>\n",
       "<path fill=\"none\" stroke=\"#000000\" stroke-width=\"0.75\" stroke-dasharray=\"5,2\" stroke-opacity=\"0.250980\" d=\"M136.08,-70.8C129.63,-59.95 121.26,-45.87 114.83,-35.05\"/>\n",
       "</g>\n",
       "<!-- Student -->\n",
       "<g id=\"node10\" class=\"node\">\n",
       "<title>Student</title>\n",
       "<g id=\"a_node10\"><a xlink:title=\"student_id           \r------------------------------\rfirst_name           \rlast_name            \rsex                  \rdate_of_birth        \rhome_address         \rhome_city            \rhome_state           \rhome_zip             \rhome_phone           \r\">\n",
       "<polygon fill=\"#00ff00\" fill-opacity=\"0.188235\" stroke=\"#00ff00\" stroke-opacity=\"0.188235\" points=\"58,-319 0,-319 0,-284 58,-284 58,-319\"/>\n",
       "<text text-anchor=\"start\" x=\"8\" y=\"-299.4\" font-family=\"arial\" text-decoration=\"underline\" font-size=\"12.00\" fill=\"darkgreen\">Student</text>\n",
       "</a>\n",
       "</g>\n",
       "</g>\n",
       "<!-- Student&#45;&gt;StudentMajor -->\n",
       "<g id=\"edge9\" class=\"edge\">\n",
       "<title>Student-&gt;StudentMajor</title>\n",
       "<path fill=\"none\" stroke=\"#000000\" stroke-width=\"2\" stroke-opacity=\"0.250980\" d=\"M37.71,-283.8C43.37,-272.95 50.72,-258.87 56.37,-248.05\"/>\n",
       "</g>\n",
       "<!-- Student&#45;&gt;Enroll -->\n",
       "<g id=\"edge10\" class=\"edge\">\n",
       "<title>Student-&gt;Enroll</title>\n",
       "<path fill=\"none\" stroke=\"#000000\" stroke-width=\"0.75\" stroke-opacity=\"0.250980\" d=\"M22.11,-283.81C18.3,-273.65 13.94,-260.3 12,-248 9.57,-232.63 8.92,-228.25 12,-213 20.1,-172.87 41.64,-129.54 54.31,-106.39\"/>\n",
       "</g>\n",
       "</g>\n",
       "</svg>"
      ],
      "text/plain": [
       "<datajoint.diagram.Diagram at 0x7fba3d739880>"
      ]
     },
     "execution_count": 7,
     "metadata": {},
     "output_type": "execute_result"
    }
   ],
   "source": [
    "dj.Diagram(schema)"
   ]
  },
  {
   "cell_type": "code",
   "execution_count": 8,
   "metadata": {},
   "outputs": [],
   "source": [
    "from tqdm import tqdm\n",
    "import faker\n",
    "import random\n",
    "import itertools\n",
    "import datetime\n",
    "fake = faker.Faker()"
   ]
  },
  {
   "cell_type": "code",
   "execution_count": 9,
   "metadata": {},
   "outputs": [],
   "source": [
    "def yield_students():\n",
    "    fake_name = {'F': fake.name_female, 'M': fake.name_male}\n",
    "    while True:  # ignore invalid values\n",
    "        try:\n",
    "            sex = random.choice(('F', 'M'))\n",
    "            first_name, last_name = fake_name[sex]().split(' ')[:2]\n",
    "            street_address, city = fake.address().split('\\n')\n",
    "            city, state = city.split(', ')\n",
    "            state, zipcode = state.split(' ')            \n",
    "        except ValueError:\n",
    "            continue\n",
    "        else:\n",
    "            yield dict(\n",
    "                first_name=first_name,\n",
    "                last_name=last_name,\n",
    "                sex=sex,\n",
    "                home_address=street_address,\n",
    "                home_city=city,\n",
    "                home_state=state,\n",
    "                home_zip=zipcode,\n",
    "                date_of_birth=str(\n",
    "                    fake.date_time_between(start_date=\"-35y\", end_date=\"-15y\").date()),\n",
    "                home_phone = fake.phone_number()[:20])"
   ]
  },
  {
   "cell_type": "code",
   "execution_count": 10,
   "metadata": {},
   "outputs": [],
   "source": [
    "Student.insert(\n",
    "    dict(k, student_id=i) for i, k in zip(range(100,300), yield_students()))"
   ]
  },
  {
   "cell_type": "code",
   "execution_count": 11,
   "metadata": {},
   "outputs": [
    {
     "data": {
      "text/html": [
       "\n",
       "    \n",
       "    <style type=\"text/css\">\n",
       "        .Table{\n",
       "            border-collapse:collapse;\n",
       "        }\n",
       "        .Table th{\n",
       "            background: #A0A0A0; color: #ffffff; padding:4px; border:#f0e0e0 1px solid;\n",
       "            font-weight: normal; font-family: monospace; font-size: 100%;\n",
       "        }\n",
       "        .Table td{\n",
       "            padding:4px; border:#f0e0e0 1px solid; font-size:100%;\n",
       "        }\n",
       "        .Table tr:nth-child(odd){\n",
       "            background: #ffffff;\n",
       "            color: #000000;\n",
       "        }\n",
       "        .Table tr:nth-child(even){\n",
       "            background: #f3f1ff;\n",
       "            color: #000000;\n",
       "        }\n",
       "        /* Tooltip container */\n",
       "        .djtooltip {\n",
       "        }\n",
       "        /* Tooltip text */\n",
       "        .djtooltip .djtooltiptext {\n",
       "            visibility: hidden;\n",
       "            width: 120px;\n",
       "            background-color: black;\n",
       "            color: #fff;\n",
       "            text-align: center;\n",
       "            padding: 5px 0;\n",
       "            border-radius: 6px;\n",
       "            /* Position the tooltip text - see examples below! */\n",
       "            position: absolute;\n",
       "            z-index: 1;\n",
       "        }\n",
       "        #primary {\n",
       "            font-weight: bold;\n",
       "            color: black;\n",
       "        }\n",
       "        #nonprimary {\n",
       "            font-weight: normal;\n",
       "            color: white;\n",
       "        }\n",
       "\n",
       "        /* Show the tooltip text when you mouse over the tooltip container */\n",
       "        .djtooltip:hover .djtooltiptext {\n",
       "            visibility: visible;\n",
       "        }\n",
       "    </style>\n",
       "    \n",
       "    <b></b>\n",
       "        <div style=\"max-height:1000px;max-width:1500px;overflow:auto;\">\n",
       "        <table border=\"1\" class=\"Table\">\n",
       "            <thead> <tr style=\"text-align: right;\"> <th> <div class=\"djtooltip\">\n",
       "                            <p id=\"primary\">student_id</p>\n",
       "                            <span class=\"djtooltiptext\">university-wide ID number</span>\n",
       "                        </div></th><th><div class=\"djtooltip\">\n",
       "                            <p id=\"nonprimary\">first_name</p>\n",
       "                            <span class=\"djtooltiptext\"></span>\n",
       "                        </div></th><th><div class=\"djtooltip\">\n",
       "                            <p id=\"nonprimary\">last_name</p>\n",
       "                            <span class=\"djtooltiptext\"></span>\n",
       "                        </div></th><th><div class=\"djtooltip\">\n",
       "                            <p id=\"nonprimary\">sex</p>\n",
       "                            <span class=\"djtooltiptext\"></span>\n",
       "                        </div></th><th><div class=\"djtooltip\">\n",
       "                            <p id=\"nonprimary\">date_of_birth</p>\n",
       "                            <span class=\"djtooltiptext\"></span>\n",
       "                        </div></th><th><div class=\"djtooltip\">\n",
       "                            <p id=\"nonprimary\">home_address</p>\n",
       "                            <span class=\"djtooltiptext\">mailing street address</span>\n",
       "                        </div></th><th><div class=\"djtooltip\">\n",
       "                            <p id=\"nonprimary\">home_city</p>\n",
       "                            <span class=\"djtooltiptext\">mailing address</span>\n",
       "                        </div></th><th><div class=\"djtooltip\">\n",
       "                            <p id=\"nonprimary\">home_state</p>\n",
       "                            <span class=\"djtooltiptext\">US state acronym: e.g. OH</span>\n",
       "                        </div></th><th><div class=\"djtooltip\">\n",
       "                            <p id=\"nonprimary\">home_zip</p>\n",
       "                            <span class=\"djtooltiptext\">zipcode e.g. 93979-4979</span>\n",
       "                        </div></th><th><div class=\"djtooltip\">\n",
       "                            <p id=\"nonprimary\">home_phone</p>\n",
       "                            <span class=\"djtooltiptext\">e.g. 414.657.6883x0881</span>\n",
       "                        </div> </th> </tr> </thead>\n",
       "            <tbody> <tr> <td>100</td>\n",
       "<td>David</td>\n",
       "<td>Warren</td>\n",
       "<td>M</td>\n",
       "<td>2007-05-28</td>\n",
       "<td>328 Trevino Club</td>\n",
       "<td>South Brittany</td>\n",
       "<td>AR</td>\n",
       "<td>85766</td>\n",
       "<td>9867288695</td></tr><tr><td>101</td>\n",
       "<td>Donald</td>\n",
       "<td>Davis</td>\n",
       "<td>M</td>\n",
       "<td>2005-05-11</td>\n",
       "<td>5507 Kevin Road Apt. 158</td>\n",
       "<td>Jenniferhaven</td>\n",
       "<td>PW</td>\n",
       "<td>28061</td>\n",
       "<td>384.891.3097x907</td></tr><tr><td>102</td>\n",
       "<td>Logan</td>\n",
       "<td>Carter</td>\n",
       "<td>M</td>\n",
       "<td>1991-06-06</td>\n",
       "<td>80648 Phillips Manors Apt. 363</td>\n",
       "<td>Carsonmouth</td>\n",
       "<td>TN</td>\n",
       "<td>89169</td>\n",
       "<td>(931)654-8377</td></tr><tr><td>103</td>\n",
       "<td>Andrea</td>\n",
       "<td>Jones</td>\n",
       "<td>F</td>\n",
       "<td>1990-04-10</td>\n",
       "<td>0728 Amy Plain</td>\n",
       "<td>Millertown</td>\n",
       "<td>ND</td>\n",
       "<td>67142</td>\n",
       "<td>+1-891-317-9091</td></tr><tr><td>104</td>\n",
       "<td>Angela</td>\n",
       "<td>Stevens</td>\n",
       "<td>F</td>\n",
       "<td>1990-02-19</td>\n",
       "<td>67714 Hicks Courts Suite 791</td>\n",
       "<td>Heidistad</td>\n",
       "<td>IN</td>\n",
       "<td>57838</td>\n",
       "<td>721.306.0389x29709</td></tr><tr><td>105</td>\n",
       "<td>Brittney</td>\n",
       "<td>Meyer</td>\n",
       "<td>F</td>\n",
       "<td>1997-04-01</td>\n",
       "<td>2533 Colon Vista Suite 094</td>\n",
       "<td>East Gregoryton</td>\n",
       "<td>IA</td>\n",
       "<td>47281</td>\n",
       "<td>512.492.0549</td></tr><tr><td>106</td>\n",
       "<td>Scott</td>\n",
       "<td>Ross</td>\n",
       "<td>M</td>\n",
       "<td>1990-06-29</td>\n",
       "<td>1360 Vanessa Ports Apt. 444</td>\n",
       "<td>East Andrewberg</td>\n",
       "<td>CA</td>\n",
       "<td>49351</td>\n",
       "<td>001-938-490-4120</td></tr><tr><td>107</td>\n",
       "<td>Ricardo</td>\n",
       "<td>Flores</td>\n",
       "<td>M</td>\n",
       "<td>1996-08-03</td>\n",
       "<td>1895 Dawn Dam</td>\n",
       "<td>Timothyville</td>\n",
       "<td>CA</td>\n",
       "<td>71637</td>\n",
       "<td>(601)212-1426x18191</td></tr><tr><td>108</td>\n",
       "<td>Ryan</td>\n",
       "<td>Roberson</td>\n",
       "<td>M</td>\n",
       "<td>1996-07-04</td>\n",
       "<td>16777 Reynolds Brooks</td>\n",
       "<td>South Josephbury</td>\n",
       "<td>AS</td>\n",
       "<td>90614</td>\n",
       "<td>498.835.4430x65848</td></tr><tr><td>109</td>\n",
       "<td>Timothy</td>\n",
       "<td>Anderson</td>\n",
       "<td>M</td>\n",
       "<td>1993-08-04</td>\n",
       "<td>5427 Roy Meadow</td>\n",
       "<td>Port Heatherberg</td>\n",
       "<td>GU</td>\n",
       "<td>69501</td>\n",
       "<td>548.737.6679x066</td></tr><tr><td>110</td>\n",
       "<td>Caitlin</td>\n",
       "<td>Ortiz</td>\n",
       "<td>F</td>\n",
       "<td>1989-06-25</td>\n",
       "<td>3264 Mark Stravenue Apt. 136</td>\n",
       "<td>West Morgan</td>\n",
       "<td>WY</td>\n",
       "<td>59797</td>\n",
       "<td>(578)793-4109x339</td></tr><tr><td>111</td>\n",
       "<td>Susan</td>\n",
       "<td>Cooper</td>\n",
       "<td>F</td>\n",
       "<td>2007-06-22</td>\n",
       "<td>6939 Savannah Forges Suite 253</td>\n",
       "<td>West Meganburgh</td>\n",
       "<td>WV</td>\n",
       "<td>11501</td>\n",
       "<td>+1-369-687-3678x193</td> </tr> </tbody>\n",
       "        </table>\n",
       "        <p>...</p>\n",
       "        <p>Total: 200</p></div>\n",
       "        "
      ],
      "text/plain": [
       "*student_id    first_name     last_name     sex     date_of_birth  home_address   home_city      home_state     home_zip     home_phone    \n",
       "+------------+ +------------+ +-----------+ +-----+ +------------+ +------------+ +------------+ +------------+ +----------+ +------------+\n",
       "100            David          Warren        M       2007-05-28     328 Trevino Cl South Brittany AR             85766        9867288695    \n",
       "101            Donald         Davis         M       2005-05-11     5507 Kevin Roa Jenniferhaven  PW             28061        384.891.3097x9\n",
       "102            Logan          Carter        M       1991-06-06     80648 Phillips Carsonmouth    TN             89169        (931)654-8377 \n",
       "103            Andrea         Jones         F       1990-04-10     0728 Amy Plain Millertown     ND             67142        +1-891-317-909\n",
       "104            Angela         Stevens       F       1990-02-19     67714 Hicks Co Heidistad      IN             57838        721.306.0389x2\n",
       "105            Brittney       Meyer         F       1997-04-01     2533 Colon Vis East Gregoryto IA             47281        512.492.0549  \n",
       "106            Scott          Ross          M       1990-06-29     1360 Vanessa P East Andrewber CA             49351        001-938-490-41\n",
       "107            Ricardo        Flores        M       1996-08-03     1895 Dawn Dam  Timothyville   CA             71637        (601)212-1426x\n",
       "108            Ryan           Roberson      M       1996-07-04     16777 Reynolds South Josephbu AS             90614        498.835.4430x6\n",
       "109            Timothy        Anderson      M       1993-08-04     5427 Roy Meado Port Heatherbe GU             69501        548.737.6679x0\n",
       "110            Caitlin        Ortiz         F       1989-06-25     3264 Mark Stra West Morgan    WY             59797        (578)793-4109x\n",
       "111            Susan          Cooper        F       2007-06-22     6939 Savannah  West Meganburg WV             11501        +1-369-687-367\n",
       "   ...\n",
       " (Total: 200)"
      ]
     },
     "execution_count": 11,
     "metadata": {},
     "output_type": "execute_result"
    }
   ],
   "source": [
    "Student()"
   ]
  },
  {
   "cell_type": "code",
   "execution_count": 12,
   "metadata": {},
   "outputs": [],
   "source": [
    "Department.insert(\n",
    "    dict(dept=dept, \n",
    "         dept_name=name, \n",
    "         dept_address=fake.address(), \n",
    "         dept_phone=fake.phone_number()[:20])\n",
    "    for dept, name in [\n",
    "        [\"CS\", \"Computer Science\"],\n",
    "        [\"BIOL\", \"Life Sciences\"],\n",
    "        [\"PHYS\", \"Physics\"],\n",
    "        [\"MATH\", \"Mathematics\"]])"
   ]
  },
  {
   "cell_type": "code",
   "execution_count": 13,
   "metadata": {},
   "outputs": [],
   "source": [
    "StudentMajor.insert({**s, **d, \n",
    "                     'declare_date':fake.date_between(start_date=datetime.date(1999,1,1))}\n",
    "    for s, d in zip(Student.fetch('KEY'), random.choices(Department.fetch('KEY'), k=len(Student())))\n",
    "                   if random.random() < 0.75)"
   ]
  },
  {
   "cell_type": "code",
   "execution_count": 14,
   "metadata": {},
   "outputs": [
    {
     "data": {
      "text/html": [
       "\n",
       "    \n",
       "    <style type=\"text/css\">\n",
       "        .Table{\n",
       "            border-collapse:collapse;\n",
       "        }\n",
       "        .Table th{\n",
       "            background: #A0A0A0; color: #ffffff; padding:4px; border:#f0e0e0 1px solid;\n",
       "            font-weight: normal; font-family: monospace; font-size: 100%;\n",
       "        }\n",
       "        .Table td{\n",
       "            padding:4px; border:#f0e0e0 1px solid; font-size:100%;\n",
       "        }\n",
       "        .Table tr:nth-child(odd){\n",
       "            background: #ffffff;\n",
       "            color: #000000;\n",
       "        }\n",
       "        .Table tr:nth-child(even){\n",
       "            background: #f3f1ff;\n",
       "            color: #000000;\n",
       "        }\n",
       "        /* Tooltip container */\n",
       "        .djtooltip {\n",
       "        }\n",
       "        /* Tooltip text */\n",
       "        .djtooltip .djtooltiptext {\n",
       "            visibility: hidden;\n",
       "            width: 120px;\n",
       "            background-color: black;\n",
       "            color: #fff;\n",
       "            text-align: center;\n",
       "            padding: 5px 0;\n",
       "            border-radius: 6px;\n",
       "            /* Position the tooltip text - see examples below! */\n",
       "            position: absolute;\n",
       "            z-index: 1;\n",
       "        }\n",
       "        #primary {\n",
       "            font-weight: bold;\n",
       "            color: black;\n",
       "        }\n",
       "        #nonprimary {\n",
       "            font-weight: normal;\n",
       "            color: white;\n",
       "        }\n",
       "\n",
       "        /* Show the tooltip text when you mouse over the tooltip container */\n",
       "        .djtooltip:hover .djtooltiptext {\n",
       "            visibility: visible;\n",
       "        }\n",
       "    </style>\n",
       "    \n",
       "    <b></b>\n",
       "        <div style=\"max-height:1000px;max-width:1500px;overflow:auto;\">\n",
       "        <table border=\"1\" class=\"Table\">\n",
       "            <thead> <tr style=\"text-align: right;\"> <th> <div class=\"djtooltip\">\n",
       "                            <p id=\"primary\">student_id</p>\n",
       "                            <span class=\"djtooltiptext\">university-wide ID number</span>\n",
       "                        </div></th><th><div class=\"djtooltip\">\n",
       "                            <p id=\"nonprimary\">dept</p>\n",
       "                            <span class=\"djtooltiptext\">abbreviated department name, e.g. BIOL</span>\n",
       "                        </div></th><th><div class=\"djtooltip\">\n",
       "                            <p id=\"nonprimary\">declare_date</p>\n",
       "                            <span class=\"djtooltiptext\">when student declared her major</span>\n",
       "                        </div> </th> </tr> </thead>\n",
       "            <tbody> <tr> <td>100</td>\n",
       "<td>MATH</td>\n",
       "<td>2018-07-22</td></tr><tr><td>101</td>\n",
       "<td>MATH</td>\n",
       "<td>2003-10-23</td></tr><tr><td>102</td>\n",
       "<td>MATH</td>\n",
       "<td>2003-01-04</td></tr><tr><td>103</td>\n",
       "<td>MATH</td>\n",
       "<td>2013-07-02</td></tr><tr><td>104</td>\n",
       "<td>BIOL</td>\n",
       "<td>2005-11-22</td></tr><tr><td>105</td>\n",
       "<td>MATH</td>\n",
       "<td>2022-05-08</td></tr><tr><td>107</td>\n",
       "<td>MATH</td>\n",
       "<td>2019-05-03</td></tr><tr><td>108</td>\n",
       "<td>PHYS</td>\n",
       "<td>2016-11-14</td></tr><tr><td>109</td>\n",
       "<td>MATH</td>\n",
       "<td>2012-12-18</td></tr><tr><td>111</td>\n",
       "<td>CS</td>\n",
       "<td>2012-06-21</td></tr><tr><td>112</td>\n",
       "<td>PHYS</td>\n",
       "<td>2005-10-25</td></tr><tr><td>114</td>\n",
       "<td>MATH</td>\n",
       "<td>2018-09-17</td> </tr> </tbody>\n",
       "        </table>\n",
       "        <p>...</p>\n",
       "        <p>Total: 149</p></div>\n",
       "        "
      ],
      "text/plain": [
       "*student_id    dept     declare_date  \n",
       "+------------+ +------+ +------------+\n",
       "100            MATH     2018-07-22    \n",
       "101            MATH     2003-10-23    \n",
       "102            MATH     2003-01-04    \n",
       "103            MATH     2013-07-02    \n",
       "104            BIOL     2005-11-22    \n",
       "105            MATH     2022-05-08    \n",
       "107            MATH     2019-05-03    \n",
       "108            PHYS     2016-11-14    \n",
       "109            MATH     2012-12-18    \n",
       "111            CS       2012-06-21    \n",
       "112            PHYS     2005-10-25    \n",
       "114            MATH     2018-09-17    \n",
       "   ...\n",
       " (Total: 149)"
      ]
     },
     "execution_count": 14,
     "metadata": {},
     "output_type": "execute_result"
    }
   ],
   "source": [
    "StudentMajor()"
   ]
  },
  {
   "cell_type": "code",
   "execution_count": null,
   "metadata": {},
   "outputs": [],
   "source": [
    "# from https://www.utah.edu/\n",
    "Course.insert([\n",
    "    ['BIOL', 1006, 'World of Dinosaurs', 3],\n",
    "    ['BIOL', 1010, 'Biology in the 21st Century', 3],\n",
    "    ['BIOL', 1030, 'Human Biology', 3],\n",
    "    ['BIOL', 1210, 'Principles of Biology', 4],\n",
    "    ['BIOL', 2010, 'Evolution & Diversity of Life', 3],\n",
    "    ['BIOL', 2020, 'Principles of Cell Biology',  3],\n",
    "    ['BIOL', 2021, 'Principles of Cell Science',  4],\n",
    "    ['BIOL', 2030, 'Principles of Genetics',  3],\n",
    "    ['BIOL', 2210, 'Human Genetics',3],\n",
    "    ['BIOL', 2325, 'Human Anatomy', 4],\n",
    "    ['BIOL', 2330, 'Plants & Society', 3],\n",
    "    ['BIOL', 2355, 'Field Botany', 2],\n",
    "    ['BIOL', 2420, 'Human Physiology', 4],\n",
    "\n",
    "    ['PHYS', 2040, 'Classcal Theoretical Physics II', 4],\n",
    "    ['PHYS', 2060, 'Quantum Mechanics', 3],\n",
    "    ['PHYS', 2100, 'General Relativity and Cosmology', 3],\n",
    "    ['PHYS', 2140, 'Statistical Mechanics', 4],\n",
    "    \n",
    "    ['PHYS', 2210, 'Physics for Scientists and Engineers I', 4], \n",
    "    ['PHYS', 2220, 'Physics for Scientists and Engineers II', 4],\n",
    "    ['PHYS', 3210, 'Physics for Scientists I (Honors)', 4],\n",
    "    ['PHYS', 3220, 'Physics for Scientists II (Honors)', 4],\n",
    "    \n",
    "    ['MATH', 1250, 'Calculus for AP Students I', 4],\n",
    "    ['MATH', 1260, 'Calculus for AP Students II', 4],\n",
    "    ['MATH', 1210, 'Calculus I', 4],\n",
    "    ['MATH', 1220, 'Calculus II', 4],\n",
    "    ['MATH', 2210, 'Calculus III', 3],\n",
    " \n",
    "    ['MATH', 2270, 'Linear Algebra', 4],\n",
    "    ['MATH', 2280, 'Introduction to Differential Equations', 4],\n",
    "    ['MATH', 3210, 'Foundations of Analysis I', 4],\n",
    "    ['MATH', 3220, 'Foundations of Analysis II', 4],\n",
    "    \n",
    "    ['CS', 1030, 'Foundations of Computer Science', 3],\n",
    "    ['CS', 1410, 'Introduction to Object-Oriented Programming', 4],\n",
    "    ['CS', 2420, 'Introduction to Algorithms & Data Structures', 4],\n",
    "    ['CS', 2100, 'Discrete Structures', 3],\n",
    "    ['CS', 3500, 'Software Practice', 4],\n",
    "    ['CS', 3505, 'Software Practice II', 3],\n",
    "    ['CS', 3810, 'Computer Organization', 4],\n",
    "    ['CS', 4400, 'Computer Systems', 4],\n",
    "    ['CS', 4150, 'Algorithms', 3],\n",
    "    ['CS', 3100, 'Models of Computation', 3],\n",
    "    ['CS', 3200, 'Introduction to Scientific Computing', 3],\n",
    "    ['CS', 4000, 'Senior Capstone Project - Design Phase', 3],\n",
    "    ['CS', 4500, 'Senior Capstone Project', 3],\n",
    "    ['CS', 4940, 'Undergraduate Research', 3],\n",
    "    ['CS', 4970, 'Computer Science Bachelor''s Thesis', 3]])"
   ]
  },
  {
   "cell_type": "code",
   "execution_count": null,
   "metadata": {},
   "outputs": [],
   "source": [
    "Term.insert(dict(term_year=year, term=term) \n",
    "            for year in range(1999, 2019) \n",
    "            for term in ['Spring', 'Summer', 'Fall'])\n",
    "\n",
    "Term().fetch(order_by=('term_year DESC', 'term DESC'), as_dict=True, limit=1)[0]\n",
    "\n",
    "CurrentTerm().insert1({\n",
    "    **Term().fetch(order_by=('term_year DESC', 'term DESC'), as_dict=True, limit=1)[0]})\n",
    "\n",
    "def make_section(prob):\n",
    "    for c in (Course * Term).proj():\n",
    "        for sec in 'abcd':\n",
    "            if random.random() < prob:\n",
    "                break\n",
    "            yield {\n",
    "                **c, 'section': sec, \n",
    "                'auditorium': random.choice('ABCDEF') + str(random.randint(1,100))}   \n",
    "\n",
    "Section.insert(make_section(0.5))"
   ]
  },
  {
   "cell_type": "code",
   "execution_count": null,
   "metadata": {},
   "outputs": [],
   "source": [
    "LetterGrade.insert([\n",
    "    ['A',  4.00],\n",
    "    ['A-', 3.67],\n",
    "    ['B+', 3.33],\n",
    "    ['B',  3.00],\n",
    "    ['B-', 2.67],\n",
    "    ['C+', 2.33],\n",
    "    ['C',  2.00],\n",
    "    ['C-', 1.67],\n",
    "    ['D+', 1.33],\n",
    "    ['D',  1.00],\n",
    "    ['F',  0.00]])"
   ]
  },
  {
   "cell_type": "code",
   "execution_count": null,
   "metadata": {},
   "outputs": [],
   "source": [
    "LetterGrade()"
   ]
  },
  {
   "cell_type": "code",
   "execution_count": null,
   "metadata": {},
   "outputs": [],
   "source": [
    "# Enrollment \n",
    "terms = Term().fetch('KEY')\n",
    "quit_prob = 0.1\n",
    "for student in tqdm(Student.fetch('KEY')):\n",
    "    start_term = random.randrange(len(terms))\n",
    "    for term in terms[start_term:]:\n",
    "        if random.random() < quit_prob:\n",
    "            break\n",
    "        else:\n",
    "            sections = ((Section & term) - (Course & (Enroll & student))).fetch('KEY')\n",
    "            if sections:\n",
    "                Enroll.insert({**student, **section} for section in \n",
    "                              random.sample(sections, random.randrange(min(5, len(sections)))))"
   ]
  },
  {
   "cell_type": "code",
   "execution_count": null,
   "metadata": {},
   "outputs": [],
   "source": [
    "# assign random grades\n",
    "grades = LetterGrade.fetch('grade')\n",
    "\n",
    "grade_keys = Enroll.fetch('KEY')\n",
    "random.shuffle(grade_keys)\n",
    "grade_keys = grade_keys[:len(grade_keys)*9//10]\n",
    "\n",
    "Grade.insert({**key, 'grade':grade} \n",
    "             for key, grade in zip(grade_keys, random.choices(grades, k=len(grade_keys))))"
   ]
  },
  {
   "cell_type": "code",
   "execution_count": null,
   "metadata": {},
   "outputs": [],
   "source": [
    "Enroll()"
   ]
  },
  {
   "cell_type": "markdown",
   "metadata": {},
   "source": [
    "# Queries"
   ]
  },
  {
   "cell_type": "markdown",
   "metadata": {},
   "source": [
    "## Restriction"
   ]
  },
  {
   "cell_type": "code",
   "execution_count": null,
   "metadata": {},
   "outputs": [],
   "source": [
    "# Students from Texas\n",
    "Student & {'home_state': 'TX'}"
   ]
  },
  {
   "cell_type": "code",
   "execution_count": null,
   "metadata": {},
   "outputs": [],
   "source": [
    "Student & 'home_state=\"TX\"'"
   ]
  },
  {
   "cell_type": "code",
   "execution_count": null,
   "metadata": {},
   "outputs": [],
   "source": [
    "# Male students from outside Texas\n",
    "(Student & 'sex=\"M\"') - {'home_state': 'TX'}"
   ]
  },
  {
   "cell_type": "code",
   "execution_count": null,
   "metadata": {},
   "outputs": [],
   "source": [
    "# Students from TX, OK, or NM\n",
    "Student & [{'home_state':'OK'}, {'home_state':'NM'}, {'home_state':'TX'}] "
   ]
  },
  {
   "cell_type": "code",
   "execution_count": null,
   "metadata": {},
   "outputs": [],
   "source": [
    "# Millenials\n",
    "millennials = Student & 'date_of_birth between \"1981-01-01\" and \"1996-12-31\"'"
   ]
  },
  {
   "cell_type": "code",
   "execution_count": null,
   "metadata": {},
   "outputs": [],
   "source": [
    "millennials"
   ]
  },
  {
   "cell_type": "code",
   "execution_count": null,
   "metadata": {},
   "outputs": [],
   "source": [
    "# Students who have taken classes\n",
    "Student & Enroll"
   ]
  },
  {
   "cell_type": "code",
   "execution_count": null,
   "metadata": {},
   "outputs": [],
   "source": [
    "# Millenials who have never enrolled\n",
    "millennials - Enroll"
   ]
  },
  {
   "cell_type": "code",
   "execution_count": null,
   "metadata": {},
   "outputs": [],
   "source": [
    "# Students who have not taken classes\n",
    "Student - Enroll"
   ]
  },
  {
   "cell_type": "code",
   "execution_count": null,
   "metadata": {},
   "outputs": [],
   "source": [
    "# Students who have taken Biology classes but no MATH courses\n",
    "(Student & (Enroll & 'dept=\"BIOL\"')) - (Enroll & 'dept=\"MATH\"')"
   ]
  },
  {
   "cell_type": "code",
   "execution_count": null,
   "metadata": {},
   "outputs": [],
   "source": [
    "# Students who have not selected a major\n",
    "Student - StudentMajor"
   ]
  },
  {
   "cell_type": "code",
   "execution_count": null,
   "metadata": {},
   "outputs": [],
   "source": [
    "# Students who are taking courses in the current term\n",
    "Student - (Enroll & CurrentTerm)"
   ]
  },
  {
   "cell_type": "code",
   "execution_count": null,
   "metadata": {},
   "outputs": [],
   "source": [
    "(Student - (Enroll & CurrentTerm)).make_sql()"
   ]
  },
  {
   "cell_type": "code",
   "execution_count": null,
   "metadata": {},
   "outputs": [],
   "source": [
    "# Ungraded courses\n",
    "Enroll - Grade"
   ]
  },
  {
   "cell_type": "code",
   "execution_count": null,
   "metadata": {},
   "outputs": [],
   "source": [
    "# Ungraded courses in the current term\n",
    "(Enroll & CurrentTerm) - Grade"
   ]
  },
  {
   "cell_type": "code",
   "execution_count": null,
   "metadata": {},
   "outputs": [],
   "source": [
    "# Students who have taken classes and have chosen a major\n",
    "(Student & Enroll & StudentMajor)"
   ]
  },
  {
   "cell_type": "code",
   "execution_count": null,
   "metadata": {},
   "outputs": [],
   "source": [
    "#Students who have taken classes or have chosen a major\n",
    "Student & [Enroll, StudentMajor]"
   ]
  },
  {
   "cell_type": "code",
   "execution_count": null,
   "metadata": {},
   "outputs": [],
   "source": [
    "# Enrollment in courses from the same department as the students' major\n",
    "Enroll & StudentMajor"
   ]
  },
  {
   "cell_type": "markdown",
   "metadata": {},
   "source": [
    "## Join"
   ]
  },
  {
   "cell_type": "code",
   "execution_count": null,
   "metadata": {},
   "outputs": [],
   "source": [
    "# Grade point values\n",
    "Grade * LetterGrade"
   ]
  },
  {
   "cell_type": "code",
   "execution_count": null,
   "metadata": {},
   "outputs": [],
   "source": [
    "# Graded enrollments with complete course and student information\n",
    "Student * Enroll * Course * Section * Grade * LetterGrade"
   ]
  },
  {
   "cell_type": "code",
   "execution_count": null,
   "metadata": {},
   "outputs": [],
   "source": [
    "# Enrollment with major information\n",
    "Enroll * StudentMajor.proj(major='dept')"
   ]
  },
  {
   "cell_type": "code",
   "execution_count": null,
   "metadata": {},
   "outputs": [],
   "source": [
    "# Enrollment outside chosen major\n",
    "Enroll * StudentMajor.proj(major='dept') & 'major<>dept'"
   ]
  },
  {
   "cell_type": "code",
   "execution_count": null,
   "metadata": {},
   "outputs": [],
   "source": [
    "# Enrollment not matching major \n",
    "Enroll - StudentMajor "
   ]
  },
  {
   "cell_type": "code",
   "execution_count": null,
   "metadata": {},
   "outputs": [],
   "source": [
    "# Total grade points\n",
    "(Course * Grade * LetterGrade).proj(total='points*credits')"
   ]
  },
  {
   "cell_type": "markdown",
   "metadata": {},
   "source": [
    "## Aggr"
   ]
  },
  {
   "cell_type": "code",
   "execution_count": null,
   "metadata": {},
   "outputs": [],
   "source": [
    "# Students in each section\n",
    "Section.aggr(Enroll, n='count(*)')"
   ]
  },
  {
   "cell_type": "code",
   "execution_count": null,
   "metadata": {},
   "outputs": [],
   "source": [
    "# Average grade in each course\n",
    "Course.aggr(Grade*LetterGrade, avg_grade='avg(points)')"
   ]
  },
  {
   "cell_type": "code",
   "execution_count": null,
   "metadata": {},
   "outputs": [],
   "source": [
    "# Fraction graded in each section\n",
    "(Section.aggr(Enroll,n='count(*)') * Section.aggr(Grade, m='count(*)')).proj(\n",
    "    'm','n',frac='m/n')"
   ]
  },
  {
   "cell_type": "code",
   "execution_count": null,
   "metadata": {},
   "outputs": [],
   "source": [
    "# Student GPA\n",
    "Student.aggr(Course * Grade * LetterGrade, \n",
    "             gpa='sum(points*credits)/sum(credits)')"
   ]
  },
  {
   "cell_type": "code",
   "execution_count": null,
   "metadata": {},
   "outputs": [],
   "source": [
    "# Average GPA for each major\n",
    "gpa = Student.aggr(Course * Grade * LetterGrade,\n",
    "                   gpa='sum(points*credits)/sum(credits)')\n",
    "Department.aggr(StudentMajor*gpa, avg_gpa='avg(gpa)')"
   ]
  },
  {
   "cell_type": "code",
   "execution_count": null,
   "metadata": {},
   "outputs": [],
   "source": []
  }
 ],
 "metadata": {
  "kernelspec": {
   "display_name": "Python 3",
   "language": "python",
   "name": "python3"
  },
  "language_info": {
   "codemirror_mode": {
    "name": "ipython",
    "version": 3
   },
   "file_extension": ".py",
   "mimetype": "text/x-python",
   "name": "python",
   "nbconvert_exporter": "python",
   "pygments_lexer": "ipython3",
   "version": "3.9.17"
  }
 },
 "nbformat": 4,
 "nbformat_minor": 2
}
