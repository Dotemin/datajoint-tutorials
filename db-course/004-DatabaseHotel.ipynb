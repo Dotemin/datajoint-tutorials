{
 "cells": [
  {
   "cell_type": "markdown",
   "id": "6e26075b",
   "metadata": {},
   "source": [
    "# Hotel Database\n",
    "## Assignment\n",
    "\n",
    "Design, populate, and query a database for a hotel reservation system with the following business rules:\n",
    "\n",
    "1. The hotel has a number of rooms of two types: Deluxe and Suite\n",
    "2. For every night, some rooms are made available for reservation for a specific price.\n",
    "3. A guest can make a reservation for an avavilable room for one night. The reservation must include credit card payment info. At most one reservation can be made per night per room.\n",
    "4. A guest can check into a room that has been reserved. An attempt to check in without a reservation will generate an error.\n",
    "5. A guest can check out only after checking in. An attempt to check out multiple times or check out without checking in will generate an error.\n",
    "\n",
    "Your Python code should provide the following:\n",
    "\n",
    "1. A section to create the tables. The design must be in 3rd normal form following the conventions discussed in class and enforcing the business rules above.\n",
    "\n",
    "2. Provide code to populate rooms and room availability with prices.\n",
    "\n",
    "3. The function `reserve_room(room, date, guest_name, credit_card)` to make a reservation. A script that populates at least 300 reservations (e.g. use `faker`)\n",
    "\n",
    "4. The functions `checkin(room, date)` and `checkout(room, date)` to check guests in and out. Write a script that invokes `checkin` and `checkout` for a buncha guests.  Demonstrate that that the functions enforces the rules of the business.\n",
    "\n",
    "5. Write a query to list all guests who have stayed in a given room in 2021.\n",
    "\n",
    "6. Write a query to list all dates on which a specific guest stayed at the hotel.\n",
    "\n"
   ]
  },
  {
   "cell_type": "markdown",
   "id": "33e46762",
   "metadata": {},
   "source": [
    "# Define the database"
   ]
  },
  {
   "cell_type": "code",
   "execution_count": 1,
   "id": "fc703fb8",
   "metadata": {},
   "outputs": [
    {
     "name": "stderr",
     "output_type": "stream",
     "text": [
      "[2023-10-24 22:24:39,860][INFO]: Connecting root@fakeservices.datajoint.io:3306\n",
      "[2023-10-24 22:24:39,868][INFO]: Connected root@fakeservices.datajoint.io:3306\n"
     ]
    }
   ],
   "source": [
    "import datajoint as dj\n",
    "schema = dj.Schema('hotel')"
   ]
  },
  {
   "cell_type": "code",
   "execution_count": 2,
   "id": "62d97e04",
   "metadata": {},
   "outputs": [],
   "source": [
    "@schema\n",
    "class Room(dj.Manual):\n",
    "    definition = \"\"\"\n",
    "    room : int\n",
    "    --- \n",
    "    room_type : enum('Deluxe', 'Suite')\n",
    "    \"\"\""
   ]
  },
  {
   "cell_type": "code",
   "execution_count": 3,
   "id": "280e7440",
   "metadata": {},
   "outputs": [],
   "source": [
    "@schema\n",
    "class RoomAvailable(dj.Manual):\n",
    "    definition = \"\"\"\n",
    "    -> Room\n",
    "    date : date \n",
    "    ---\n",
    "    price : decimal(6, 2)\n",
    "    \"\"\""
   ]
  },
  {
   "cell_type": "code",
   "execution_count": 4,
   "id": "dc952e39",
   "metadata": {},
   "outputs": [],
   "source": [
    "@schema\n",
    "class Guest(dj.Manual):\n",
    "    definition = \"\"\"\n",
    "    guest_id : int unsigned\n",
    "    --- \n",
    "    guest_name : varchar(60)\n",
    "    index(guest_name)\n",
    "    \"\"\""
   ]
  },
  {
   "cell_type": "code",
   "execution_count": 5,
   "id": "14929f5b",
   "metadata": {},
   "outputs": [],
   "source": [
    "@schema\n",
    "class Reservation(dj.Manual):\n",
    "    definition = \"\"\"\n",
    "    -> RoomAvailable\n",
    "    ---\n",
    "    -> Guest\n",
    "    credit_card : varchar(80)\n",
    "    \"\"\""
   ]
  },
  {
   "cell_type": "code",
   "execution_count": 6,
   "id": "61f03f74",
   "metadata": {},
   "outputs": [],
   "source": [
    "@schema\n",
    "class CheckIn(dj.Manual):\n",
    "    definition = \"\"\"\n",
    "    -> Reservation\n",
    "    \"\"\""
   ]
  },
  {
   "cell_type": "code",
   "execution_count": 7,
   "id": "c163c97c",
   "metadata": {},
   "outputs": [],
   "source": [
    "@schema\n",
    "class CheckOut(dj.Manual):\n",
    "    definition = \"\"\"\n",
    "    -> CheckIn\n",
    "    \"\"\""
   ]
  },
  {
   "cell_type": "code",
   "execution_count": 8,
   "id": "c98936a8",
   "metadata": {},
   "outputs": [
    {
     "data": {
      "image/svg+xml": [
       "<svg xmlns=\"http://www.w3.org/2000/svg\" xmlns:xlink=\"http://www.w3.org/1999/xlink\" width=\"172pt\" height=\"327pt\" viewBox=\"0.00 0.00 172.00 327.00\">\n",
       "<g id=\"graph0\" class=\"graph\" transform=\"scale(1 1) rotate(0) translate(4 323)\">\n",
       "<title>%3</title>\n",
       "<polygon fill=\"white\" stroke=\"transparent\" points=\"-4,4 -4,-323 168,-323 168,4 -4,4\"/>\n",
       "<!-- Guest -->\n",
       "<g id=\"node1\" class=\"node\">\n",
       "<title>Guest</title>\n",
       "<g id=\"a_node1\"><a xlink:title=\"guest_id             \r------------------------------\rguest_name           \rINDEX (guest_name)\r\">\n",
       "<polygon fill=\"#00ff00\" fill-opacity=\"0.188235\" stroke=\"#00ff00\" stroke-opacity=\"0.188235\" points=\"48,-248 0,-248 0,-213 48,-213 48,-248\"/>\n",
       "<text text-anchor=\"start\" x=\"8\" y=\"-228.4\" font-family=\"arial\" text-decoration=\"underline\" font-size=\"12.00\" fill=\"darkgreen\">Guest</text>\n",
       "</a>\n",
       "</g>\n",
       "</g>\n",
       "<!-- Reservation -->\n",
       "<g id=\"node2\" class=\"node\">\n",
       "<title>Reservation</title>\n",
       "<g id=\"a_node2\"><a xlink:title=\"→ RoomAvailable\r------------------------------\r→ Guest\rcredit_card          \r\">\n",
       "<polygon fill=\"#00ff00\" fill-opacity=\"0.188235\" stroke=\"#00ff00\" stroke-opacity=\"0.188235\" points=\"109.5,-177 28.5,-177 28.5,-142 109.5,-142 109.5,-177\"/>\n",
       "<text text-anchor=\"middle\" x=\"69\" y=\"-156.4\" font-family=\"arial\" font-size=\"12.00\" fill=\"darkgreen\">Reservation</text>\n",
       "</a>\n",
       "</g>\n",
       "</g>\n",
       "<!-- Guest&#45;&gt;Reservation -->\n",
       "<g id=\"edge1\" class=\"edge\">\n",
       "<title>Guest-&gt;Reservation</title>\n",
       "<path fill=\"none\" stroke=\"#000000\" stroke-width=\"0.75\" stroke-dasharray=\"5,2\" stroke-opacity=\"0.250980\" d=\"M34.89,-212.8C41.97,-201.95 51.15,-187.87 58.21,-177.05\"/>\n",
       "</g>\n",
       "<!-- CheckIn -->\n",
       "<g id=\"node6\" class=\"node\">\n",
       "<title>CheckIn</title>\n",
       "<g id=\"a_node6\"><a xlink:title=\"→ Reservation\r\">\n",
       "<polygon fill=\"#00ff00\" fill-opacity=\"0.188235\" stroke=\"#00ff00\" stroke-opacity=\"0.188235\" points=\"99.5,-106 38.5,-106 38.5,-71 99.5,-71 99.5,-106\"/>\n",
       "<text text-anchor=\"middle\" x=\"69\" y=\"-85.4\" font-family=\"arial\" font-size=\"12.00\" fill=\"darkgreen\">CheckIn</text>\n",
       "</a>\n",
       "</g>\n",
       "</g>\n",
       "<!-- Reservation&#45;&gt;CheckIn -->\n",
       "<g id=\"edge2\" class=\"edge\">\n",
       "<title>Reservation-&gt;CheckIn</title>\n",
       "<path fill=\"none\" stroke=\"#000000\" stroke-width=\"2\" stroke-opacity=\"0.250980\" d=\"M69,-141.8C69,-130.95 69,-116.87 69,-106.05\"/>\n",
       "</g>\n",
       "<!-- Room -->\n",
       "<g id=\"node3\" class=\"node\">\n",
       "<title>Room</title>\n",
       "<g id=\"a_node3\"><a xlink:title=\"room                 \r------------------------------\rroom_type            \r\">\n",
       "<polygon fill=\"#00ff00\" fill-opacity=\"0.188235\" stroke=\"#00ff00\" stroke-opacity=\"0.188235\" points=\"139.5,-319 90.5,-319 90.5,-284 139.5,-284 139.5,-319\"/>\n",
       "<text text-anchor=\"start\" x=\"98.5\" y=\"-299.4\" font-family=\"arial\" text-decoration=\"underline\" font-size=\"12.00\" fill=\"darkgreen\">Room</text>\n",
       "</a>\n",
       "</g>\n",
       "</g>\n",
       "<!-- RoomAvailable -->\n",
       "<g id=\"node5\" class=\"node\">\n",
       "<title>RoomAvailable</title>\n",
       "<g id=\"a_node5\"><a xlink:title=\"→ Room\rdate                 \r------------------------------\rprice                \r\">\n",
       "<polygon fill=\"#00ff00\" fill-opacity=\"0.188235\" stroke=\"#00ff00\" stroke-opacity=\"0.188235\" points=\"164,-248 66,-248 66,-213 164,-213 164,-248\"/>\n",
       "<text text-anchor=\"start\" x=\"74\" y=\"-228.4\" font-family=\"arial\" text-decoration=\"underline\" font-size=\"12.00\" fill=\"darkgreen\">RoomAvailable</text>\n",
       "</a>\n",
       "</g>\n",
       "</g>\n",
       "<!-- Room&#45;&gt;RoomAvailable -->\n",
       "<g id=\"edge3\" class=\"edge\">\n",
       "<title>Room-&gt;RoomAvailable</title>\n",
       "<path fill=\"none\" stroke=\"#000000\" stroke-width=\"0.75\" stroke-opacity=\"0.250980\" d=\"M115,-283.8C115,-272.95 115,-258.87 115,-248.05\"/>\n",
       "</g>\n",
       "<!-- CheckOut -->\n",
       "<g id=\"node4\" class=\"node\">\n",
       "<title>CheckOut</title>\n",
       "<g id=\"a_node4\"><a xlink:title=\"→ CheckIn\r\">\n",
       "<polygon fill=\"#00ff00\" fill-opacity=\"0.188235\" stroke=\"#00ff00\" stroke-opacity=\"0.188235\" points=\"104,-35 34,-35 34,0 104,0 104,-35\"/>\n",
       "<text text-anchor=\"middle\" x=\"69\" y=\"-14.4\" font-family=\"arial\" font-size=\"12.00\" fill=\"darkgreen\">CheckOut</text>\n",
       "</a>\n",
       "</g>\n",
       "</g>\n",
       "<!-- RoomAvailable&#45;&gt;Reservation -->\n",
       "<g id=\"edge4\" class=\"edge\">\n",
       "<title>RoomAvailable-&gt;Reservation</title>\n",
       "<path fill=\"none\" stroke=\"#000000\" stroke-width=\"2\" stroke-opacity=\"0.250980\" d=\"M103.86,-212.8C96.63,-201.95 87.24,-187.87 80.03,-177.05\"/>\n",
       "</g>\n",
       "<!-- CheckIn&#45;&gt;CheckOut -->\n",
       "<g id=\"edge5\" class=\"edge\">\n",
       "<title>CheckIn-&gt;CheckOut</title>\n",
       "<path fill=\"none\" stroke=\"#000000\" stroke-width=\"2\" stroke-opacity=\"0.250980\" d=\"M69,-70.8C69,-59.95 69,-45.87 69,-35.05\"/>\n",
       "</g>\n",
       "</g>\n",
       "</svg>"
      ],
      "text/plain": [
       "<datajoint.diagram.Diagram at 0x7f0a616e1310>"
      ]
     },
     "execution_count": 8,
     "metadata": {},
     "output_type": "execute_result"
    }
   ],
   "source": [
    "dj.Diagram(schema)"
   ]
  },
  {
   "cell_type": "markdown",
   "id": "3bab6ec9",
   "metadata": {},
   "source": [
    "# Populate Room Availability"
   ]
  },
  {
   "cell_type": "code",
   "execution_count": 9,
   "id": "64060872",
   "metadata": {},
   "outputs": [],
   "source": [
    "import faker\n",
    "import random\n",
    "import datetime\n",
    "import tqdm\n",
    "fake = faker.Faker()"
   ]
  },
  {
   "cell_type": "code",
   "execution_count": 10,
   "id": "281c8ca7",
   "metadata": {},
   "outputs": [],
   "source": [
    "# populate rooms\n",
    "Room.insert((i, \"Deluxe\" if i%2 else \"Suite\") for i in range(80))"
   ]
  },
  {
   "cell_type": "code",
   "execution_count": 11,
   "id": "86bc4436",
   "metadata": {},
   "outputs": [
    {
     "name": "stderr",
     "output_type": "stream",
     "text": [
      "100%|██████████| 45/45 [00:02<00:00, 21.22it/s]\n"
     ]
    }
   ],
   "source": [
    "# Populate Room availability: 45 days starting on start_date\n",
    "start_date = datetime.date(2021, 10, 1)\n",
    "days = 45\n",
    "\n",
    "for day in tqdm.tqdm(range(days)):\n",
    "    price = random.randint(40, 350) \n",
    "    RoomAvailable.insert(\n",
    "        dict(key, \n",
    "             date=start_date + datetime.timedelta(days=day), \n",
    "             price=price) for key in Room.fetch('KEY'))\n",
    "    "
   ]
  },
  {
   "cell_type": "markdown",
   "id": "4deda107",
   "metadata": {},
   "source": [
    "# Functions "
   ]
  },
  {
   "cell_type": "code",
   "execution_count": 12,
   "id": "48470620",
   "metadata": {},
   "outputs": [],
   "source": [
    "class HotelException(Exception): pass\n",
    "class RoomUnavailable(HotelException): pass\n",
    "class RoomAlreadyReserved(HotelException): pass\n",
    "class AlreadyChecked(HotelException): pass\n",
    "class NoReservation(HotelException): pass\n",
    "class NotCheckedIn(HotelException): pass"
   ]
  },
  {
   "cell_type": "code",
   "execution_count": 13,
   "id": "5603309c",
   "metadata": {},
   "outputs": [],
   "source": [
    "def reserve_room(room, date, guest_name, credit_card):\n",
    "    # lookup guest by name\n",
    "    keys = (Guest & {'guest_name': guest_name}).fetch('KEY')\n",
    "    \n",
    "    if keys:\n",
    "        # if multiple found, use the first, for example\n",
    "        key = keys[0]  \n",
    "    else:\n",
    "        # if not registered before, create a new guest id\n",
    "        key = dict(guest_id=random.randint(0, 2**32-1))\n",
    "        Guest.insert1(dict(key, guest_name=guest_name))\n",
    "    \n",
    "    try:\n",
    "        Reservation.insert1(\n",
    "            dict(key, room=room, date=date, credit_card=credit_card))\n",
    "    except dj.errors.DuplicateError:\n",
    "        raise RoomAlreadyReserved(room, date.isoformat()) from None\n",
    "    except dj.errors.IntegrityError:\n",
    "        raise RoomUnavailable(room, date.isoformat()) from None"
   ]
  },
  {
   "cell_type": "code",
   "execution_count": 14,
   "id": "fd3b9e30",
   "metadata": {},
   "outputs": [],
   "source": [
    "def check_in(room, date):\n",
    "    try:\n",
    "        CheckIn.insert1(dict(room=room, date=date))\n",
    "    except dj.errors.DuplicateError:\n",
    "        raise AlreadyChecked(room, date.isoformat()) from None\n",
    "    except dj.errors.IntegrityError:\n",
    "        raise NoReservation(room, date.isoformat()) from None"
   ]
  },
  {
   "cell_type": "code",
   "execution_count": 15,
   "id": "09e340e2",
   "metadata": {},
   "outputs": [],
   "source": [
    "def check_out(room, date):\n",
    "    try:\n",
    "        CheckOut.insert1(dict(room=room, date=date))\n",
    "    except dj.errors.DuplicateError:\n",
    "        raise AlreadyChecked(room, date.isoformat()) from None\n",
    "    except dj.errors.IntegrityError:\n",
    "        raise NotCheckedIn(room, date.isoformat()) from None"
   ]
  },
  {
   "cell_type": "markdown",
   "id": "60740817",
   "metadata": {},
   "source": [
    "# Operations"
   ]
  },
  {
   "cell_type": "code",
   "execution_count": 16,
   "id": "8dbad565",
   "metadata": {
    "scrolled": false
   },
   "outputs": [
    {
     "name": "stderr",
     "output_type": "stream",
     "text": [
      "  1%|          | 1/100 [00:00<00:36,  2.72it/s]"
     ]
    },
    {
     "name": "stdout",
     "output_type": "stream",
     "text": [
      "RoomUnavailable(80, '2021-10-14')\n"
     ]
    },
    {
     "name": "stderr",
     "output_type": "stream",
     "text": [
      "  5%|▌         | 5/100 [00:01<00:37,  2.54it/s]"
     ]
    },
    {
     "name": "stdout",
     "output_type": "stream",
     "text": [
      "RoomUnavailable(80, '2021-11-07')\n"
     ]
    },
    {
     "name": "stderr",
     "output_type": "stream",
     "text": [
      "  7%|▋         | 7/100 [00:02<00:25,  3.60it/s]"
     ]
    },
    {
     "name": "stdout",
     "output_type": "stream",
     "text": [
      "RoomUnavailable(80, '2021-10-31')\n"
     ]
    },
    {
     "name": "stderr",
     "output_type": "stream",
     "text": [
      " 12%|█▏        | 12/100 [00:03<00:32,  2.71it/s]"
     ]
    },
    {
     "name": "stdout",
     "output_type": "stream",
     "text": [
      "RoomAlreadyReserved(50, '2021-10-17')\n"
     ]
    },
    {
     "name": "stderr",
     "output_type": "stream",
     "text": [
      " 16%|█▌        | 16/100 [00:04<00:22,  3.81it/s]"
     ]
    },
    {
     "name": "stdout",
     "output_type": "stream",
     "text": [
      "RoomUnavailable(80, '2021-10-21')\n",
      "RoomAlreadyReserved(27, '2021-10-07')\n"
     ]
    },
    {
     "name": "stderr",
     "output_type": "stream",
     "text": [
      " 18%|█▊        | 18/100 [00:05<00:31,  2.63it/s]"
     ]
    },
    {
     "name": "stdout",
     "output_type": "stream",
     "text": [
      "RoomUnavailable(80, '2021-10-30')\n"
     ]
    },
    {
     "name": "stderr",
     "output_type": "stream",
     "text": [
      " 20%|██        | 20/100 [00:06<00:33,  2.42it/s]"
     ]
    },
    {
     "name": "stdout",
     "output_type": "stream",
     "text": [
      "RoomAlreadyReserved(16, '2021-10-30')\n",
      "RoomAlreadyReserved(41, '2021-11-10')\n"
     ]
    },
    {
     "name": "stderr",
     "output_type": "stream",
     "text": [
      " 23%|██▎       | 23/100 [00:07<00:29,  2.64it/s]"
     ]
    },
    {
     "name": "stdout",
     "output_type": "stream",
     "text": [
      "RoomAlreadyReserved(20, '2021-11-10')\n"
     ]
    },
    {
     "name": "stderr",
     "output_type": "stream",
     "text": [
      " 25%|██▌       | 25/100 [00:08<00:27,  2.76it/s]"
     ]
    },
    {
     "name": "stdout",
     "output_type": "stream",
     "text": [
      "RoomAlreadyReserved(28, '2021-11-05')\n",
      "RoomAlreadyReserved(71, '2021-10-13')\n",
      "RoomAlreadyReserved(4, '2021-10-03')\n"
     ]
    },
    {
     "name": "stderr",
     "output_type": "stream",
     "text": [
      " 26%|██▌       | 26/100 [00:08<00:23,  3.09it/s]"
     ]
    },
    {
     "name": "stdout",
     "output_type": "stream",
     "text": [
      "RoomAlreadyReserved(23, '2021-10-12')\n"
     ]
    },
    {
     "name": "stderr",
     "output_type": "stream",
     "text": [
      " 27%|██▋       | 27/100 [00:09<00:26,  2.73it/s]"
     ]
    },
    {
     "name": "stdout",
     "output_type": "stream",
     "text": [
      "RoomAlreadyReserved(19, '2021-10-16')\n",
      "RoomAlreadyReserved(19, '2021-10-16')\n"
     ]
    },
    {
     "name": "stderr",
     "output_type": "stream",
     "text": [
      " 32%|███▏      | 32/100 [00:10<00:23,  2.93it/s]"
     ]
    },
    {
     "name": "stdout",
     "output_type": "stream",
     "text": [
      "RoomUnavailable(80, '2021-10-30')\n"
     ]
    },
    {
     "name": "stderr",
     "output_type": "stream",
     "text": [
      " 35%|███▌      | 35/100 [00:12<00:26,  2.49it/s]"
     ]
    },
    {
     "name": "stdout",
     "output_type": "stream",
     "text": [
      "RoomAlreadyReserved(25, '2021-11-03')\n",
      "RoomAlreadyReserved(45, '2021-10-18')\n"
     ]
    },
    {
     "name": "stderr",
     "output_type": "stream",
     "text": [
      " 36%|███▌      | 36/100 [00:12<00:25,  2.53it/s]"
     ]
    },
    {
     "name": "stdout",
     "output_type": "stream",
     "text": [
      "RoomAlreadyReserved(78, '2021-11-08')\n"
     ]
    },
    {
     "name": "stderr",
     "output_type": "stream",
     "text": [
      " 39%|███▉      | 39/100 [00:13<00:18,  3.29it/s]"
     ]
    },
    {
     "name": "stdout",
     "output_type": "stream",
     "text": [
      "RoomAlreadyReserved(20, '2021-10-24')\n",
      "RoomAlreadyReserved(46, '2021-11-13')\n"
     ]
    },
    {
     "name": "stderr",
     "output_type": "stream",
     "text": [
      " 40%|████      | 40/100 [00:13<00:17,  3.36it/s]"
     ]
    },
    {
     "name": "stdout",
     "output_type": "stream",
     "text": [
      "RoomAlreadyReserved(4, '2021-10-30')\n",
      "RoomAlreadyReserved(23, '2021-10-10')\n"
     ]
    },
    {
     "name": "stderr",
     "output_type": "stream",
     "text": [
      " 44%|████▍     | 44/100 [00:14<00:14,  3.92it/s]"
     ]
    },
    {
     "name": "stdout",
     "output_type": "stream",
     "text": [
      "RoomAlreadyReserved(72, '2021-10-16')\n",
      "RoomAlreadyReserved(44, '2021-10-20')\n",
      "RoomAlreadyReserved(41, '2021-11-01')\n",
      "RoomAlreadyReserved(7, '2021-11-05')\n"
     ]
    },
    {
     "name": "stderr",
     "output_type": "stream",
     "text": [
      " 46%|████▌     | 46/100 [00:15<00:15,  3.44it/s]"
     ]
    },
    {
     "name": "stdout",
     "output_type": "stream",
     "text": [
      "RoomAlreadyReserved(75, '2021-10-12')\n",
      "RoomAlreadyReserved(53, '2021-10-31')\n"
     ]
    },
    {
     "name": "stderr",
     "output_type": "stream",
     "text": [
      " 48%|████▊     | 48/100 [00:15<00:10,  4.83it/s]"
     ]
    },
    {
     "name": "stdout",
     "output_type": "stream",
     "text": [
      "RoomAlreadyReserved(8, '2021-10-21')\n"
     ]
    },
    {
     "name": "stderr",
     "output_type": "stream",
     "text": [
      " 50%|█████     | 50/100 [00:15<00:12,  4.14it/s]"
     ]
    },
    {
     "name": "stdout",
     "output_type": "stream",
     "text": [
      "RoomUnavailable(80, '2021-10-06')\n",
      "RoomAlreadyReserved(52, '2021-10-09')\n",
      "RoomAlreadyReserved(44, '2021-10-06')\n",
      "RoomAlreadyReserved(39, '2021-10-15')\n"
     ]
    },
    {
     "name": "stderr",
     "output_type": "stream",
     "text": [
      " 52%|█████▏    | 52/100 [00:16<00:18,  2.61it/s]"
     ]
    },
    {
     "name": "stdout",
     "output_type": "stream",
     "text": [
      "RoomAlreadyReserved(25, '2021-10-09')\n",
      "RoomAlreadyReserved(58, '2021-10-26')\n",
      "RoomAlreadyReserved(11, '2021-10-28')\n"
     ]
    },
    {
     "name": "stderr",
     "output_type": "stream",
     "text": [
      " 53%|█████▎    | 53/100 [00:17<00:18,  2.52it/s]"
     ]
    },
    {
     "name": "stdout",
     "output_type": "stream",
     "text": [
      "RoomAlreadyReserved(14, '2021-10-04')\n",
      "RoomAlreadyReserved(49, '2021-10-18')\n",
      "RoomAlreadyReserved(71, '2021-10-13')\n"
     ]
    },
    {
     "name": "stderr",
     "output_type": "stream",
     "text": [
      " 54%|█████▍    | 54/100 [00:17<00:18,  2.43it/s]"
     ]
    },
    {
     "name": "stdout",
     "output_type": "stream",
     "text": [
      "RoomAlreadyReserved(27, '2021-10-18')\n",
      "RoomAlreadyReserved(40, '2021-10-14')\n",
      "RoomAlreadyReserved(47, '2021-10-14')\n",
      "RoomUnavailable(80, '2021-10-11')\n"
     ]
    },
    {
     "name": "stderr",
     "output_type": "stream",
     "text": [
      " 56%|█████▌    | 56/100 [00:18<00:14,  3.04it/s]"
     ]
    },
    {
     "name": "stdout",
     "output_type": "stream",
     "text": [
      "RoomAlreadyReserved(31, '2021-11-02')\n"
     ]
    },
    {
     "name": "stderr",
     "output_type": "stream",
     "text": [
      " 57%|█████▋    | 57/100 [00:18<00:12,  3.44it/s]"
     ]
    },
    {
     "name": "stdout",
     "output_type": "stream",
     "text": [
      "RoomAlreadyReserved(44, '2021-10-21')\n",
      "RoomAlreadyReserved(24, '2021-10-23')\n",
      "RoomAlreadyReserved(75, '2021-10-21')\n"
     ]
    },
    {
     "name": "stderr",
     "output_type": "stream",
     "text": [
      " 58%|█████▊    | 58/100 [00:18<00:12,  3.27it/s]"
     ]
    },
    {
     "name": "stdout",
     "output_type": "stream",
     "text": [
      "RoomAlreadyReserved(42, '2021-10-21')\n",
      "RoomAlreadyReserved(67, '2021-10-19')\n"
     ]
    },
    {
     "name": "stderr",
     "output_type": "stream",
     "text": [
      " 60%|██████    | 60/100 [00:19<00:09,  4.08it/s]"
     ]
    },
    {
     "name": "stdout",
     "output_type": "stream",
     "text": [
      "RoomAlreadyReserved(40, '2021-10-01')\n",
      "RoomAlreadyReserved(73, '2021-11-10')\n"
     ]
    },
    {
     "name": "stderr",
     "output_type": "stream",
     "text": [
      " 62%|██████▏   | 62/100 [00:19<00:10,  3.77it/s]"
     ]
    },
    {
     "name": "stdout",
     "output_type": "stream",
     "text": [
      "RoomAlreadyReserved(58, '2021-10-23')\n"
     ]
    },
    {
     "name": "stderr",
     "output_type": "stream",
     "text": [
      " 65%|██████▌   | 65/100 [00:20<00:08,  4.06it/s]"
     ]
    },
    {
     "name": "stdout",
     "output_type": "stream",
     "text": [
      "RoomAlreadyReserved(22, '2021-10-19')\n",
      "RoomAlreadyReserved(59, '2021-10-19')\n",
      "RoomAlreadyReserved(11, '2021-10-24')\n",
      "RoomAlreadyReserved(26, '2021-10-21')\n",
      "RoomAlreadyReserved(4, '2021-10-20')\n"
     ]
    },
    {
     "name": "stderr",
     "output_type": "stream",
     "text": [
      " 67%|██████▋   | 67/100 [00:20<00:06,  4.83it/s]"
     ]
    },
    {
     "name": "stdout",
     "output_type": "stream",
     "text": [
      "RoomAlreadyReserved(30, '2021-10-09')\n",
      "RoomAlreadyReserved(0, '2021-10-09')\n",
      "RoomUnavailable(80, '2021-10-13')\n"
     ]
    },
    {
     "name": "stderr",
     "output_type": "stream",
     "text": [
      " 69%|██████▉   | 69/100 [00:21<00:06,  4.48it/s]"
     ]
    },
    {
     "name": "stdout",
     "output_type": "stream",
     "text": [
      "RoomAlreadyReserved(21, '2021-10-02')\n",
      "RoomAlreadyReserved(51, '2021-11-09')\n",
      "RoomAlreadyReserved(25, '2021-11-04')\n",
      "RoomAlreadyReserved(11, '2021-11-05')\n",
      "RoomAlreadyReserved(43, '2021-11-07')\n"
     ]
    },
    {
     "name": "stderr",
     "output_type": "stream",
     "text": [
      " 71%|███████   | 71/100 [00:21<00:07,  3.86it/s]"
     ]
    },
    {
     "name": "stdout",
     "output_type": "stream",
     "text": [
      "RoomAlreadyReserved(62, '2021-10-01')\n",
      "RoomAlreadyReserved(28, '2021-10-31')\n",
      "RoomAlreadyReserved(18, '2021-11-02')\n",
      "RoomAlreadyReserved(5, '2021-10-01')\n",
      "RoomAlreadyReserved(64, '2021-10-14')\n",
      "RoomAlreadyReserved(30, '2021-11-13')\n",
      "RoomAlreadyReserved(17, '2021-11-11')\n"
     ]
    },
    {
     "name": "stderr",
     "output_type": "stream",
     "text": [
      " 73%|███████▎  | 73/100 [00:22<00:07,  3.82it/s]"
     ]
    },
    {
     "name": "stdout",
     "output_type": "stream",
     "text": [
      "RoomAlreadyReserved(4, '2021-10-09')\n",
      "RoomAlreadyReserved(48, '2021-11-05')\n",
      "RoomAlreadyReserved(39, '2021-10-15')\n"
     ]
    },
    {
     "name": "stderr",
     "output_type": "stream",
     "text": [
      " 76%|███████▌  | 76/100 [00:22<00:04,  5.01it/s]"
     ]
    },
    {
     "name": "stdout",
     "output_type": "stream",
     "text": [
      "RoomAlreadyReserved(27, '2021-10-09')\n",
      "RoomAlreadyReserved(29, '2021-10-22')\n"
     ]
    },
    {
     "name": "stderr",
     "output_type": "stream",
     "text": [
      " 77%|███████▋  | 77/100 [00:23<00:05,  4.56it/s]"
     ]
    },
    {
     "name": "stdout",
     "output_type": "stream",
     "text": [
      "RoomAlreadyReserved(40, '2021-10-26')\n"
     ]
    },
    {
     "name": "stderr",
     "output_type": "stream",
     "text": [
      " 78%|███████▊  | 78/100 [00:23<00:05,  4.24it/s]"
     ]
    },
    {
     "name": "stdout",
     "output_type": "stream",
     "text": [
      "RoomAlreadyReserved(9, '2021-10-07')\n",
      "RoomAlreadyReserved(71, '2021-10-18')\n",
      "RoomAlreadyReserved(57, '2021-10-22')\n"
     ]
    },
    {
     "name": "stderr",
     "output_type": "stream",
     "text": [
      " 79%|███████▉  | 79/100 [00:23<00:05,  4.10it/s]"
     ]
    },
    {
     "name": "stdout",
     "output_type": "stream",
     "text": [
      "RoomAlreadyReserved(45, '2021-11-06')\n",
      "RoomAlreadyReserved(46, '2021-11-08')\n",
      "RoomAlreadyReserved(67, '2021-10-12')\n",
      "RoomAlreadyReserved(51, '2021-11-12')\n"
     ]
    },
    {
     "name": "stderr",
     "output_type": "stream",
     "text": [
      " 81%|████████  | 81/100 [00:24<00:04,  3.86it/s]"
     ]
    },
    {
     "name": "stdout",
     "output_type": "stream",
     "text": [
      "RoomAlreadyReserved(31, '2021-10-18')\n",
      "RoomAlreadyReserved(55, '2021-10-26')\n",
      "RoomAlreadyReserved(58, '2021-10-21')\n",
      "RoomAlreadyReserved(14, '2021-10-01')\n",
      "RoomUnavailable(80, '2021-11-13')\n",
      "RoomAlreadyReserved(29, '2021-10-29')\n"
     ]
    },
    {
     "name": "stderr",
     "output_type": "stream",
     "text": [
      " 83%|████████▎ | 83/100 [00:24<00:03,  4.81it/s]"
     ]
    },
    {
     "name": "stdout",
     "output_type": "stream",
     "text": [
      "RoomAlreadyReserved(18, '2021-11-02')\n",
      "RoomAlreadyReserved(40, '2021-10-07')\n",
      "RoomAlreadyReserved(61, '2021-11-05')\n",
      "RoomAlreadyReserved(0, '2021-11-07')\n"
     ]
    },
    {
     "name": "stderr",
     "output_type": "stream",
     "text": [
      " 86%|████████▌ | 86/100 [00:25<00:03,  4.17it/s]"
     ]
    },
    {
     "name": "stdout",
     "output_type": "stream",
     "text": [
      "RoomAlreadyReserved(38, '2021-11-04')\n",
      "RoomAlreadyReserved(56, '2021-10-30')\n",
      "RoomAlreadyReserved(48, '2021-10-03')\n"
     ]
    },
    {
     "name": "stderr",
     "output_type": "stream",
     "text": [
      " 87%|████████▋ | 87/100 [00:25<00:03,  3.88it/s]"
     ]
    },
    {
     "name": "stdout",
     "output_type": "stream",
     "text": [
      "RoomAlreadyReserved(74, '2021-10-09')\n",
      "RoomAlreadyReserved(29, '2021-10-19')\n",
      "RoomAlreadyReserved(50, '2021-10-07')\n",
      "RoomAlreadyReserved(58, '2021-10-15')\n"
     ]
    },
    {
     "name": "stderr",
     "output_type": "stream",
     "text": [
      " 89%|████████▉ | 89/100 [00:26<00:02,  3.78it/s]"
     ]
    },
    {
     "name": "stdout",
     "output_type": "stream",
     "text": [
      "RoomAlreadyReserved(77, '2021-10-17')\n",
      "RoomAlreadyReserved(27, '2021-10-01')\n"
     ]
    },
    {
     "name": "stderr",
     "output_type": "stream",
     "text": [
      " 91%|█████████ | 91/100 [00:26<00:02,  3.83it/s]"
     ]
    },
    {
     "name": "stdout",
     "output_type": "stream",
     "text": [
      "RoomAlreadyReserved(47, '2021-11-02')\n",
      "RoomAlreadyReserved(52, '2021-10-18')\n"
     ]
    },
    {
     "name": "stderr",
     "output_type": "stream",
     "text": [
      " 92%|█████████▏| 92/100 [00:27<00:02,  3.42it/s]"
     ]
    },
    {
     "name": "stdout",
     "output_type": "stream",
     "text": [
      "RoomAlreadyReserved(38, '2021-10-03')\n",
      "RoomAlreadyReserved(26, '2021-11-10')\n",
      "RoomAlreadyReserved(14, '2021-11-11')\n"
     ]
    },
    {
     "name": "stderr",
     "output_type": "stream",
     "text": [
      " 93%|█████████▎| 93/100 [00:27<00:01,  3.62it/s]"
     ]
    },
    {
     "name": "stdout",
     "output_type": "stream",
     "text": [
      "RoomAlreadyReserved(74, '2021-10-09')\n",
      "RoomAlreadyReserved(70, '2021-10-16')\n",
      "RoomAlreadyReserved(67, '2021-10-11')\n",
      "RoomAlreadyReserved(58, '2021-10-09')\n",
      "RoomAlreadyReserved(15, '2021-11-11')\n",
      "RoomAlreadyReserved(3, '2021-10-17')\n",
      "RoomUnavailable(80, '2021-10-27')\n"
     ]
    },
    {
     "name": "stderr",
     "output_type": "stream",
     "text": [
      " 95%|█████████▌| 95/100 [00:27<00:01,  3.77it/s]"
     ]
    },
    {
     "name": "stdout",
     "output_type": "stream",
     "text": [
      "RoomAlreadyReserved(63, '2021-11-14')\n",
      "RoomAlreadyReserved(46, '2021-10-10')\n",
      "RoomAlreadyReserved(27, '2021-10-19')\n",
      "RoomAlreadyReserved(30, '2021-10-28')\n",
      "RoomAlreadyReserved(2, '2021-11-04')\n"
     ]
    },
    {
     "name": "stderr",
     "output_type": "stream",
     "text": [
      " 96%|█████████▌| 96/100 [00:28<00:01,  3.12it/s]"
     ]
    },
    {
     "name": "stdout",
     "output_type": "stream",
     "text": [
      "RoomAlreadyReserved(10, '2021-10-27')\n",
      "RoomAlreadyReserved(5, '2021-10-12')\n",
      "RoomAlreadyReserved(62, '2021-10-26')\n",
      "RoomAlreadyReserved(44, '2021-10-08')\n"
     ]
    },
    {
     "name": "stderr",
     "output_type": "stream",
     "text": [
      " 97%|█████████▋| 97/100 [00:28<00:00,  3.24it/s]"
     ]
    },
    {
     "name": "stdout",
     "output_type": "stream",
     "text": [
      "RoomAlreadyReserved(27, '2021-10-09')\n",
      "RoomAlreadyReserved(43, '2021-11-04')\n"
     ]
    },
    {
     "name": "stderr",
     "output_type": "stream",
     "text": [
      " 98%|█████████▊| 98/100 [00:28<00:00,  3.74it/s]"
     ]
    },
    {
     "name": "stdout",
     "output_type": "stream",
     "text": [
      "RoomAlreadyReserved(10, '2021-10-06')\n",
      "RoomAlreadyReserved(54, '2021-10-08')\n",
      "RoomAlreadyReserved(41, '2021-10-22')\n",
      "RoomAlreadyReserved(67, '2021-10-19')\n"
     ]
    },
    {
     "name": "stderr",
     "output_type": "stream",
     "text": [
      "100%|██████████| 100/100 [00:29<00:00,  3.39it/s]"
     ]
    },
    {
     "name": "stdout",
     "output_type": "stream",
     "text": [
      "RoomAlreadyReserved(36, '2021-11-03')\n"
     ]
    },
    {
     "name": "stderr",
     "output_type": "stream",
     "text": [
      "\n"
     ]
    },
    {
     "data": {
      "text/html": [
       "\n",
       "    \n",
       "    <style type=\"text/css\">\n",
       "        .Table{\n",
       "            border-collapse:collapse;\n",
       "        }\n",
       "        .Table th{\n",
       "            background: #A0A0A0; color: #ffffff; padding:4px; border:#f0e0e0 1px solid;\n",
       "            font-weight: normal; font-family: monospace; font-size: 100%;\n",
       "        }\n",
       "        .Table td{\n",
       "            padding:4px; border:#f0e0e0 1px solid; font-size:100%;\n",
       "        }\n",
       "        .Table tr:nth-child(odd){\n",
       "            background: #ffffff;\n",
       "            color: #000000;\n",
       "        }\n",
       "        .Table tr:nth-child(even){\n",
       "            background: #f3f1ff;\n",
       "            color: #000000;\n",
       "        }\n",
       "        /* Tooltip container */\n",
       "        .djtooltip {\n",
       "        }\n",
       "        /* Tooltip text */\n",
       "        .djtooltip .djtooltiptext {\n",
       "            visibility: hidden;\n",
       "            width: 120px;\n",
       "            background-color: black;\n",
       "            color: #fff;\n",
       "            text-align: center;\n",
       "            padding: 5px 0;\n",
       "            border-radius: 6px;\n",
       "            /* Position the tooltip text - see examples below! */\n",
       "            position: absolute;\n",
       "            z-index: 1;\n",
       "        }\n",
       "        #primary {\n",
       "            font-weight: bold;\n",
       "            color: black;\n",
       "        }\n",
       "        #nonprimary {\n",
       "            font-weight: normal;\n",
       "            color: white;\n",
       "        }\n",
       "\n",
       "        /* Show the tooltip text when you mouse over the tooltip container */\n",
       "        .djtooltip:hover .djtooltiptext {\n",
       "            visibility: visible;\n",
       "        }\n",
       "    </style>\n",
       "    \n",
       "    <b></b>\n",
       "        <div style=\"max-height:1000px;max-width:1500px;overflow:auto;\">\n",
       "        <table border=\"1\" class=\"Table\">\n",
       "            <thead> <tr style=\"text-align: right;\"> <th> <div class=\"djtooltip\">\n",
       "                            <p id=\"primary\">room</p>\n",
       "                            <span class=\"djtooltiptext\"></span>\n",
       "                        </div></th><th><div class=\"djtooltip\">\n",
       "                            <p id=\"primary\">date</p>\n",
       "                            <span class=\"djtooltiptext\"></span>\n",
       "                        </div></th><th><div class=\"djtooltip\">\n",
       "                            <p id=\"nonprimary\">guest_id</p>\n",
       "                            <span class=\"djtooltiptext\"></span>\n",
       "                        </div></th><th><div class=\"djtooltip\">\n",
       "                            <p id=\"nonprimary\">credit_card</p>\n",
       "                            <span class=\"djtooltiptext\"></span>\n",
       "                        </div> </th> </tr> </thead>\n",
       "            <tbody> <tr> <td>0</td>\n",
       "<td>2021-10-05</td>\n",
       "<td>1689116194</td>\n",
       "<td>4963501761746225 08/27 246</td></tr><tr><td>0</td>\n",
       "<td>2021-10-06</td>\n",
       "<td>2398806164</td>\n",
       "<td>6011977965828059 09/29 351</td></tr><tr><td>0</td>\n",
       "<td>2021-10-09</td>\n",
       "<td>1101032312</td>\n",
       "<td>4982755741654 09/26 256</td></tr><tr><td>0</td>\n",
       "<td>2021-10-28</td>\n",
       "<td>572555526</td>\n",
       "<td>675926497545 05/30 826</td></tr><tr><td>0</td>\n",
       "<td>2021-11-01</td>\n",
       "<td>572555526</td>\n",
       "<td>675926497545 05/30 826</td></tr><tr><td>0</td>\n",
       "<td>2021-11-07</td>\n",
       "<td>1101032312</td>\n",
       "<td>4982755741654 09/26 256</td></tr><tr><td>0</td>\n",
       "<td>2021-11-12</td>\n",
       "<td>3722081738</td>\n",
       "<td>4616430089622 03/32 788</td></tr><tr><td>1</td>\n",
       "<td>2021-10-01</td>\n",
       "<td>1347060425</td>\n",
       "<td>5438160252295707 11/28 697</td></tr><tr><td>1</td>\n",
       "<td>2021-10-02</td>\n",
       "<td>1474515654</td>\n",
       "<td>4029504389232637911 01/32 591</td></tr><tr><td>1</td>\n",
       "<td>2021-10-08</td>\n",
       "<td>1575600856</td>\n",
       "<td>4129092192215320 08/25 652</td></tr><tr><td>1</td>\n",
       "<td>2021-10-10</td>\n",
       "<td>1589486841</td>\n",
       "<td>3520437344918965 04/33 765</td></tr><tr><td>1</td>\n",
       "<td>2021-10-17</td>\n",
       "<td>2641048106</td>\n",
       "<td>4926013726135235 05/33 783</td> </tr> </tbody>\n",
       "        </table>\n",
       "        <p>...</p>\n",
       "        <p>Total: 864</p></div>\n",
       "        "
      ],
      "text/plain": [
       "*room    *date          guest_id       credit_card   \n",
       "+------+ +------------+ +------------+ +------------+\n",
       "0        2021-10-05     1689116194     49635017617462\n",
       "0        2021-10-06     2398806164     60119779658280\n",
       "0        2021-10-09     1101032312     4982755741654 \n",
       "0        2021-10-28     572555526      675926497545 0\n",
       "0        2021-11-01     572555526      675926497545 0\n",
       "0        2021-11-07     1101032312     4982755741654 \n",
       "0        2021-11-12     3722081738     4616430089622 \n",
       "1        2021-10-01     1347060425     54381602522957\n",
       "1        2021-10-02     1474515654     40295043892326\n",
       "1        2021-10-08     1575600856     41290921922153\n",
       "1        2021-10-10     1589486841     35204373449189\n",
       "1        2021-10-17     2641048106     49260137261352\n",
       "   ...\n",
       " (Total: 864)"
      ]
     },
     "execution_count": 16,
     "metadata": {},
     "output_type": "execute_result"
    }
   ],
   "source": [
    "# make a bunch of random reservations\n",
    "\n",
    "number_of_guests = 100\n",
    "max_nights = 20\n",
    "\n",
    "for i in tqdm.tqdm(range(number_of_guests)):\n",
    "    guest = fake.name()\n",
    "    credit_card=' '.join((fake.credit_card_number(), \n",
    "                          fake.credit_card_expire(), \n",
    "                          fake.credit_card_security_code()))\n",
    "    \n",
    "    for j in range(random.randint(1, max_nights)):\n",
    "        date =  fake.date_between_dates(start_date, start_date+datetime.timedelta(days=45))\n",
    "        room = random.randint(0, 80)\n",
    "        try:\n",
    "            reserve_room(room, date, guest, credit_card)\n",
    "        except HotelException as e:\n",
    "            print(repr(e))\n",
    "            \n",
    "# show successful reservations\n",
    "Reservation()"
   ]
  },
  {
   "cell_type": "code",
   "execution_count": 17,
   "id": "dbc10353",
   "metadata": {},
   "outputs": [
    {
     "data": {
      "text/html": [
       "\n",
       "    \n",
       "    <style type=\"text/css\">\n",
       "        .Table{\n",
       "            border-collapse:collapse;\n",
       "        }\n",
       "        .Table th{\n",
       "            background: #A0A0A0; color: #ffffff; padding:4px; border:#f0e0e0 1px solid;\n",
       "            font-weight: normal; font-family: monospace; font-size: 100%;\n",
       "        }\n",
       "        .Table td{\n",
       "            padding:4px; border:#f0e0e0 1px solid; font-size:100%;\n",
       "        }\n",
       "        .Table tr:nth-child(odd){\n",
       "            background: #ffffff;\n",
       "            color: #000000;\n",
       "        }\n",
       "        .Table tr:nth-child(even){\n",
       "            background: #f3f1ff;\n",
       "            color: #000000;\n",
       "        }\n",
       "        /* Tooltip container */\n",
       "        .djtooltip {\n",
       "        }\n",
       "        /* Tooltip text */\n",
       "        .djtooltip .djtooltiptext {\n",
       "            visibility: hidden;\n",
       "            width: 120px;\n",
       "            background-color: black;\n",
       "            color: #fff;\n",
       "            text-align: center;\n",
       "            padding: 5px 0;\n",
       "            border-radius: 6px;\n",
       "            /* Position the tooltip text - see examples below! */\n",
       "            position: absolute;\n",
       "            z-index: 1;\n",
       "        }\n",
       "        #primary {\n",
       "            font-weight: bold;\n",
       "            color: black;\n",
       "        }\n",
       "        #nonprimary {\n",
       "            font-weight: normal;\n",
       "            color: white;\n",
       "        }\n",
       "\n",
       "        /* Show the tooltip text when you mouse over the tooltip container */\n",
       "        .djtooltip:hover .djtooltiptext {\n",
       "            visibility: visible;\n",
       "        }\n",
       "    </style>\n",
       "    \n",
       "    <b></b>\n",
       "        <div style=\"max-height:1000px;max-width:1500px;overflow:auto;\">\n",
       "        <table border=\"1\" class=\"Table\">\n",
       "            <thead> <tr style=\"text-align: right;\"> <th> <div class=\"djtooltip\">\n",
       "                            <p id=\"primary\">guest_id</p>\n",
       "                            <span class=\"djtooltiptext\"></span>\n",
       "                        </div></th><th><div class=\"djtooltip\">\n",
       "                            <p id=\"nonprimary\">guest_name</p>\n",
       "                            <span class=\"djtooltiptext\"></span>\n",
       "                        </div> </th> </tr> </thead>\n",
       "            <tbody> <tr> <td>3342266079</td>\n",
       "<td>Aaron Bradley</td></tr><tr><td>3320236962</td>\n",
       "<td>Alison Burke</td></tr><tr><td>1060653779</td>\n",
       "<td>Amanda Kim</td></tr><tr><td>1347060425</td>\n",
       "<td>Anthony Jackson</td></tr><tr><td>3664806043</td>\n",
       "<td>Anthony Santana</td></tr><tr><td>3594289303</td>\n",
       "<td>Barbara Mcintyre</td></tr><tr><td>171664340</td>\n",
       "<td>Caitlin Little</td></tr><tr><td>4223113568</td>\n",
       "<td>Carol Patel</td></tr><tr><td>3592385568</td>\n",
       "<td>Charles Neal</td></tr><tr><td>2453762139</td>\n",
       "<td>Christina Meyer</td></tr><tr><td>3976771105</td>\n",
       "<td>Christine Wilson</td></tr><tr><td>1575600856</td>\n",
       "<td>Christopher Meyer</td> </tr> </tbody>\n",
       "        </table>\n",
       "        <p>...</p>\n",
       "        <p>Total: 100</p></div>\n",
       "        "
      ],
      "text/plain": [
       "*guest_id      guest_name    \n",
       "+------------+ +------------+\n",
       "3342266079     Aaron Bradley \n",
       "3320236962     Alison Burke  \n",
       "1060653779     Amanda Kim    \n",
       "1347060425     Anthony Jackso\n",
       "3664806043     Anthony Santan\n",
       "3594289303     Barbara Mcinty\n",
       "171664340      Caitlin Little\n",
       "4223113568     Carol Patel   \n",
       "3592385568     Charles Neal  \n",
       "2453762139     Christina Meye\n",
       "3976771105     Christine Wils\n",
       "1575600856     Christopher Me\n",
       "   ...\n",
       " (Total: 100)"
      ]
     },
     "execution_count": 17,
     "metadata": {},
     "output_type": "execute_result"
    }
   ],
   "source": [
    "Guest()"
   ]
  },
  {
   "cell_type": "code",
   "execution_count": 18,
   "id": "81a75c55",
   "metadata": {},
   "outputs": [
    {
     "ename": "NoReservation",
     "evalue": "(2, '2021-10-02')",
     "output_type": "error",
     "traceback": [
      "\u001b[0;31m---------------------------------------------------------------------------\u001b[0m",
      "\u001b[0;31mNoReservation\u001b[0m                             Traceback (most recent call last)",
      "Cell \u001b[0;32mIn[18], line 3\u001b[0m\n\u001b[1;32m      1\u001b[0m \u001b[39m# Try check in\u001b[39;00m\n\u001b[0;32m----> 3\u001b[0m check_in(\u001b[39m2\u001b[39;49m, datetime\u001b[39m.\u001b[39;49mdate(\u001b[39m2021\u001b[39;49m, \u001b[39m10\u001b[39;49m, \u001b[39m2\u001b[39;49m))\n",
      "Cell \u001b[0;32mIn[14], line 7\u001b[0m, in \u001b[0;36mcheck_in\u001b[0;34m(room, date)\u001b[0m\n\u001b[1;32m      5\u001b[0m     \u001b[39mraise\u001b[39;00m AlreadyChecked(room, date\u001b[39m.\u001b[39misoformat()) \u001b[39mfrom\u001b[39;00m \u001b[39mNone\u001b[39;00m\n\u001b[1;32m      6\u001b[0m \u001b[39mexcept\u001b[39;00m dj\u001b[39m.\u001b[39merrors\u001b[39m.\u001b[39mIntegrityError:\n\u001b[0;32m----> 7\u001b[0m     \u001b[39mraise\u001b[39;00m NoReservation(room, date\u001b[39m.\u001b[39misoformat()) \u001b[39mfrom\u001b[39;00m \u001b[39mNone\u001b[39;00m\n",
      "\u001b[0;31mNoReservation\u001b[0m: (2, '2021-10-02')"
     ]
    }
   ],
   "source": [
    "# Try check in\n",
    "check_in(2, datetime.date(2021, 10, 2))"
   ]
  },
  {
   "cell_type": "code",
   "execution_count": 19,
   "id": "8efc7fac",
   "metadata": {},
   "outputs": [
    {
     "name": "stderr",
     "output_type": "stream",
     "text": [
      "100%|██████████| 777/777 [00:22<00:00, 33.91it/s]\n"
     ]
    }
   ],
   "source": [
    "# checkin a bunch of people\n",
    "checkins = random.sample(Reservation().fetch('KEY'), k=int(0.9*len(Reservation())))\n",
    "for r in tqdm.tqdm(checkins):\n",
    "    try: \n",
    "        check_in(**r)\n",
    "    except AlreadyChecked as e:\n",
    "        print(repr(e))\n"
   ]
  },
  {
   "cell_type": "code",
   "execution_count": null,
   "id": "ec862447",
   "metadata": {},
   "outputs": [],
   "source": [
    "CheckIn()"
   ]
  },
  {
   "cell_type": "code",
   "execution_count": null,
   "id": "2faabb54",
   "metadata": {},
   "outputs": [],
   "source": [
    "# Try duplicate checkin\n",
    "check_in(**checkins[0])"
   ]
  },
  {
   "cell_type": "code",
   "execution_count": null,
   "id": "5236b125",
   "metadata": {},
   "outputs": [],
   "source": [
    "# Try checkout\n",
    "\n",
    "check_out(2, datetime.date(2021, 10, 2))"
   ]
  },
  {
   "cell_type": "code",
   "execution_count": null,
   "id": "85a3a740",
   "metadata": {},
   "outputs": [],
   "source": [
    "# checkout a bunch of people\n",
    "checkouts = random.sample(CheckIn().fetch('KEY'), k=int(0.9*len(CheckIn())))\n",
    "for r in tqdm.tqdm(checkouts):\n",
    "    try:\n",
    "        check_out(**r)\n",
    "    except AlreadyChecked as e:\n",
    "        print repr(e)"
   ]
  },
  {
   "cell_type": "code",
   "execution_count": null,
   "id": "5151ae4b",
   "metadata": {},
   "outputs": [],
   "source": [
    "# try duplicate checkout\n",
    "\n",
    "check_out(**checkouts[0])"
   ]
  },
  {
   "cell_type": "markdown",
   "id": "4ebd1fd9",
   "metadata": {},
   "source": [
    "# Queries \n",
    "\n",
    "## Query 1: List all guests who have stayed in room 1"
   ]
  },
  {
   "cell_type": "code",
   "execution_count": null,
   "id": "fa181a79",
   "metadata": {},
   "outputs": [],
   "source": [
    "Guest & (Reservation & (CheckIn & 'room=1'))"
   ]
  },
  {
   "cell_type": "code",
   "execution_count": null,
   "id": "e9891efc",
   "metadata": {},
   "outputs": [],
   "source": [
    "Guest & (Reservation * CheckIn & 'room=1')"
   ]
  },
  {
   "cell_type": "code",
   "execution_count": null,
   "id": "d24bccfb",
   "metadata": {},
   "outputs": [],
   "source": [
    "_.make_sql()"
   ]
  },
  {
   "cell_type": "markdown",
   "id": "d281a8f4",
   "metadata": {},
   "source": [
    "## Query 2: List all nights when a guest stayed at a hotel"
   ]
  },
  {
   "cell_type": "code",
   "execution_count": null,
   "id": "37156855",
   "metadata": {},
   "outputs": [],
   "source": [
    "# pick a guest\n",
    "guest = random.choice(Guest().fetch('KEY'))"
   ]
  },
  {
   "cell_type": "code",
   "execution_count": null,
   "id": "f166cbe4",
   "metadata": {},
   "outputs": [],
   "source": [
    "guest"
   ]
  },
  {
   "cell_type": "code",
   "execution_count": null,
   "id": "63504e50",
   "metadata": {},
   "outputs": [],
   "source": [
    "(Reservation * CheckIn & guest).proj()"
   ]
  },
  {
   "cell_type": "code",
   "execution_count": null,
   "id": "6f8d93df",
   "metadata": {},
   "outputs": [],
   "source": []
  }
 ],
 "metadata": {
  "kernelspec": {
   "display_name": "Python 3",
   "language": "python",
   "name": "python3"
  },
  "language_info": {
   "codemirror_mode": {
    "name": "ipython",
    "version": 3
   },
   "file_extension": ".py",
   "mimetype": "text/x-python",
   "name": "python",
   "nbconvert_exporter": "python",
   "pygments_lexer": "ipython3",
   "version": "3.9.17"
  }
 },
 "nbformat": 4,
 "nbformat_minor": 5
}
