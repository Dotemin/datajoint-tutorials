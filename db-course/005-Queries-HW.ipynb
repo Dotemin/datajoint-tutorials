{
 "cells": [
  {
   "cell_type": "markdown",
   "metadata": {},
   "source": [
    "# Homework 5.  Simple Queries\n",
    "\n",
    "In this project, you will design simple queries that rely on relational restriction and projection. Some restrictions may require a subquery.\n",
    "\n",
    "We will use the App database that was designed and populated in [004-Design](./004-Design.ipnb`). "
   ]
  },
  {
   "cell_type": "markdown",
   "metadata": {},
   "source": []
  }
 ],
 "metadata": {
  "language_info": {
   "name": "python"
  },
  "orig_nbformat": 4
 },
 "nbformat": 4,
 "nbformat_minor": 2
}
