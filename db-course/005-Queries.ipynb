{
 "cells": [
  {
   "cell_type": "markdown",
   "metadata": {},
   "source": [
    "# Design\n",
    "\n",
    "## Problem 4. Online App\n",
    "\n",
    "You are designing a smart phone app\n",
    "\n",
    "1. Users can subscribe for free, identified by their US phone number without extensions. Provide first and last name.\n",
    "2. Users can add one or more credits cards to their account. Store zipcode, expiration date, and the CVC.\n",
    "3. The app has paid add-ons called \"Track & Field\", \"Marathon\", and \"Sprint\", each with a fixed price.\n",
    "4. A user can purchase each add-on, in which case she must provide a credit card for the purchase. A user cannot purchase the same addon twice."
   ]
  },
  {
   "cell_type": "code",
   "execution_count": 1,
   "metadata": {},
   "outputs": [],
   "source": [
    "import datajoint as dj"
   ]
  },
  {
   "cell_type": "code",
   "execution_count": 2,
   "metadata": {},
   "outputs": [
    {
     "name": "stderr",
     "output_type": "stream",
     "text": [
      "[2023-09-19 23:12:49,751][INFO]: Connecting root@fakeservices.datajoint.io:3306\n",
      "[2023-09-19 23:12:49,831][INFO]: Connected root@fakeservices.datajoint.io:3306\n"
     ]
    }
   ],
   "source": [
    "schema = dj.Schema('app')"
   ]
  },
  {
   "cell_type": "code",
   "execution_count": 15,
   "metadata": {},
   "outputs": [],
   "source": [
    "@schema\n",
    "class Account(dj.Manual):\n",
    "    definition = \"\"\"\n",
    "    phone : bigint unsigned \n",
    "    ---\n",
    "    first_name : varchar(30)\n",
    "    last_name : varchar(30)\n",
    "    \"\"\"\n"
   ]
  },
  {
   "cell_type": "code",
   "execution_count": 65,
   "metadata": {},
   "outputs": [],
   "source": [
    "@schema\n",
    "class CreditCard(dj.Manual):\n",
    "    definition = \"\"\"\n",
    "    card_number :  bigint unsigned \n",
    "    ---\n",
    "    exp_date : date \n",
    "    cvc      : smallint unsigned\n",
    "    zipcode  : int unsigned       \n",
    "    -> Account\n",
    "    \"\"\""
   ]
  },
  {
   "cell_type": "code",
   "execution_count": 18,
   "metadata": {},
   "outputs": [
    {
     "data": {
      "image/svg+xml": [
       "<svg xmlns=\"http://www.w3.org/2000/svg\" xmlns:xlink=\"http://www.w3.org/1999/xlink\" width=\"83pt\" height=\"114pt\" viewBox=\"0.00 0.00 83.00 114.00\">\n",
       "<g id=\"graph0\" class=\"graph\" transform=\"scale(1 1) rotate(0) translate(4 110)\">\n",
       "<title>%3</title>\n",
       "<polygon fill=\"white\" stroke=\"transparent\" points=\"-4,4 -4,-110 79,-110 79,4 -4,4\"/>\n",
       "<!-- CreditCard -->\n",
       "<g id=\"node1\" class=\"node\">\n",
       "<title>CreditCard</title>\n",
       "<g id=\"a_node1\"><a xlink:title=\"card_number          \r------------------------------\rexp_date             \rcvc                  \rzipcode              \r→ Account\r\">\n",
       "<polygon fill=\"#00ff00\" fill-opacity=\"0.188235\" stroke=\"#00ff00\" stroke-opacity=\"0.188235\" points=\"75,-35 0,-35 0,0 75,0 75,-35\"/>\n",
       "<text text-anchor=\"start\" x=\"8\" y=\"-15.4\" font-family=\"arial\" text-decoration=\"underline\" font-size=\"12.00\" fill=\"darkgreen\">CreditCard</text>\n",
       "</a>\n",
       "</g>\n",
       "</g>\n",
       "<!-- Account -->\n",
       "<g id=\"node2\" class=\"node\">\n",
       "<title>Account</title>\n",
       "<g id=\"a_node2\"><a xlink:title=\"phone                \r------------------------------\rfirst_name           \rlast_name            \r\">\n",
       "<polygon fill=\"#00ff00\" fill-opacity=\"0.188235\" stroke=\"#00ff00\" stroke-opacity=\"0.188235\" points=\"67.5,-106 7.5,-106 7.5,-71 67.5,-71 67.5,-106\"/>\n",
       "<text text-anchor=\"start\" x=\"15.5\" y=\"-86.4\" font-family=\"arial\" text-decoration=\"underline\" font-size=\"12.00\" fill=\"darkgreen\">Account</text>\n",
       "</a>\n",
       "</g>\n",
       "</g>\n",
       "<!-- Account&#45;&gt;CreditCard -->\n",
       "<g id=\"edge1\" class=\"edge\">\n",
       "<title>Account-&gt;CreditCard</title>\n",
       "<path fill=\"none\" stroke=\"#000000\" stroke-width=\"0.75\" stroke-dasharray=\"5,2\" stroke-opacity=\"0.250980\" d=\"M37.5,-70.8C37.5,-59.95 37.5,-45.87 37.5,-35.05\"/>\n",
       "</g>\n",
       "</g>\n",
       "</svg>"
      ],
      "text/plain": [
       "<datajoint.diagram.Diagram at 0x7fe41a81f910>"
      ]
     },
     "execution_count": 18,
     "metadata": {},
     "output_type": "execute_result"
    }
   ],
   "source": [
    "dj.Diagram(schema)"
   ]
  },
  {
   "cell_type": "code",
   "execution_count": 8,
   "metadata": {},
   "outputs": [],
   "source": [
    "from faker import Faker\n",
    "fake = Faker()"
   ]
  },
  {
   "cell_type": "code",
   "execution_count": 19,
   "metadata": {},
   "outputs": [],
   "source": [
    "@schema\n",
    "class AddOn(dj.Lookup):\n",
    "    definition = \"\"\"\n",
    "    addon_id : int\n",
    "    ---\n",
    "    addon_name : varchar(30)\n",
    "    price : decimal(5, 2) unsigned\n",
    "    \"\"\"\n",
    "\n",
    "    contents = ((1, \"Track & Field\", 13.99), (2, \"Marathon\", 26.2), (3, \"Sprint\", 100.00))"
   ]
  },
  {
   "cell_type": "code",
   "execution_count": 20,
   "metadata": {},
   "outputs": [
    {
     "data": {
      "text/html": [
       "\n",
       "    \n",
       "    <style type=\"text/css\">\n",
       "        .Table{\n",
       "            border-collapse:collapse;\n",
       "        }\n",
       "        .Table th{\n",
       "            background: #A0A0A0; color: #ffffff; padding:4px; border:#f0e0e0 1px solid;\n",
       "            font-weight: normal; font-family: monospace; font-size: 100%;\n",
       "        }\n",
       "        .Table td{\n",
       "            padding:4px; border:#f0e0e0 1px solid; font-size:100%;\n",
       "        }\n",
       "        .Table tr:nth-child(odd){\n",
       "            background: #ffffff;\n",
       "            color: #000000;\n",
       "        }\n",
       "        .Table tr:nth-child(even){\n",
       "            background: #f3f1ff;\n",
       "            color: #000000;\n",
       "        }\n",
       "        /* Tooltip container */\n",
       "        .djtooltip {\n",
       "        }\n",
       "        /* Tooltip text */\n",
       "        .djtooltip .djtooltiptext {\n",
       "            visibility: hidden;\n",
       "            width: 120px;\n",
       "            background-color: black;\n",
       "            color: #fff;\n",
       "            text-align: center;\n",
       "            padding: 5px 0;\n",
       "            border-radius: 6px;\n",
       "            /* Position the tooltip text - see examples below! */\n",
       "            position: absolute;\n",
       "            z-index: 1;\n",
       "        }\n",
       "        #primary {\n",
       "            font-weight: bold;\n",
       "            color: black;\n",
       "        }\n",
       "        #nonprimary {\n",
       "            font-weight: normal;\n",
       "            color: white;\n",
       "        }\n",
       "\n",
       "        /* Show the tooltip text when you mouse over the tooltip container */\n",
       "        .djtooltip:hover .djtooltiptext {\n",
       "            visibility: visible;\n",
       "        }\n",
       "    </style>\n",
       "    \n",
       "    <b></b>\n",
       "        <div style=\"max-height:1000px;max-width:1500px;overflow:auto;\">\n",
       "        <table border=\"1\" class=\"Table\">\n",
       "            <thead> <tr style=\"text-align: right;\"> <th> <div class=\"djtooltip\">\n",
       "                            <p id=\"primary\">addon_id</p>\n",
       "                            <span class=\"djtooltiptext\"></span>\n",
       "                        </div></th><th><div class=\"djtooltip\">\n",
       "                            <p id=\"nonprimary\">addon_name</p>\n",
       "                            <span class=\"djtooltiptext\"></span>\n",
       "                        </div></th><th><div class=\"djtooltip\">\n",
       "                            <p id=\"nonprimary\">price</p>\n",
       "                            <span class=\"djtooltiptext\"></span>\n",
       "                        </div> </th> </tr> </thead>\n",
       "            <tbody> <tr> <td>1</td>\n",
       "<td>Track & Field</td>\n",
       "<td>13.99</td></tr><tr><td>2</td>\n",
       "<td>Marathon</td>\n",
       "<td>26.20</td></tr><tr><td>3</td>\n",
       "<td>Sprint</td>\n",
       "<td>100.00</td> </tr> </tbody>\n",
       "        </table>\n",
       "        \n",
       "        <p>Total: 3</p></div>\n",
       "        "
      ],
      "text/plain": [
       "*addon_id    addon_name     price     \n",
       "+----------+ +------------+ +--------+\n",
       "1            Track & Field  13.99     \n",
       "2            Marathon       26.20     \n",
       "3            Sprint         100.00    \n",
       " (Total: 3)"
      ]
     },
     "execution_count": 20,
     "metadata": {},
     "output_type": "execute_result"
    }
   ],
   "source": [
    "AddOn()"
   ]
  },
  {
   "cell_type": "code",
   "execution_count": 21,
   "metadata": {},
   "outputs": [],
   "source": [
    "@schema\n",
    "class Purchase(dj.Manual):\n",
    "    definition = \"\"\"\n",
    "    -> Account\n",
    "    -> AddOn\n",
    "    ---\n",
    "    -> CreditCard\n",
    "    \"\"\""
   ]
  },
  {
   "cell_type": "code",
   "execution_count": 67,
   "metadata": {},
   "outputs": [
    {
     "data": {
      "text/html": [
       "\n",
       "    \n",
       "    <style type=\"text/css\">\n",
       "        .Table{\n",
       "            border-collapse:collapse;\n",
       "        }\n",
       "        .Table th{\n",
       "            background: #A0A0A0; color: #ffffff; padding:4px; border:#f0e0e0 1px solid;\n",
       "            font-weight: normal; font-family: monospace; font-size: 100%;\n",
       "        }\n",
       "        .Table td{\n",
       "            padding:4px; border:#f0e0e0 1px solid; font-size:100%;\n",
       "        }\n",
       "        .Table tr:nth-child(odd){\n",
       "            background: #ffffff;\n",
       "            color: #000000;\n",
       "        }\n",
       "        .Table tr:nth-child(even){\n",
       "            background: #f3f1ff;\n",
       "            color: #000000;\n",
       "        }\n",
       "        /* Tooltip container */\n",
       "        .djtooltip {\n",
       "        }\n",
       "        /* Tooltip text */\n",
       "        .djtooltip .djtooltiptext {\n",
       "            visibility: hidden;\n",
       "            width: 120px;\n",
       "            background-color: black;\n",
       "            color: #fff;\n",
       "            text-align: center;\n",
       "            padding: 5px 0;\n",
       "            border-radius: 6px;\n",
       "            /* Position the tooltip text - see examples below! */\n",
       "            position: absolute;\n",
       "            z-index: 1;\n",
       "        }\n",
       "        #primary {\n",
       "            font-weight: bold;\n",
       "            color: black;\n",
       "        }\n",
       "        #nonprimary {\n",
       "            font-weight: normal;\n",
       "            color: white;\n",
       "        }\n",
       "\n",
       "        /* Show the tooltip text when you mouse over the tooltip container */\n",
       "        .djtooltip:hover .djtooltiptext {\n",
       "            visibility: visible;\n",
       "        }\n",
       "    </style>\n",
       "    \n",
       "    <b></b>\n",
       "        <div style=\"max-height:1000px;max-width:1500px;overflow:auto;\">\n",
       "        <table border=\"1\" class=\"Table\">\n",
       "            <thead> <tr style=\"text-align: right;\"> <th> <div class=\"djtooltip\">\n",
       "                            <p id=\"primary\">card_number</p>\n",
       "                            <span class=\"djtooltiptext\"></span>\n",
       "                        </div></th><th><div class=\"djtooltip\">\n",
       "                            <p id=\"nonprimary\">exp_date</p>\n",
       "                            <span class=\"djtooltiptext\"></span>\n",
       "                        </div></th><th><div class=\"djtooltip\">\n",
       "                            <p id=\"nonprimary\">cvc</p>\n",
       "                            <span class=\"djtooltiptext\"></span>\n",
       "                        </div></th><th><div class=\"djtooltip\">\n",
       "                            <p id=\"nonprimary\">zipcode</p>\n",
       "                            <span class=\"djtooltiptext\"></span>\n",
       "                        </div></th><th><div class=\"djtooltip\">\n",
       "                            <p id=\"nonprimary\">phone</p>\n",
       "                            <span class=\"djtooltiptext\"></span>\n",
       "                        </div> </th> </tr> </thead>\n",
       "            <tbody> <tr> <td>30232728862999</td>\n",
       "<td>2023-10-09</td>\n",
       "<td>709</td>\n",
       "<td>2832</td>\n",
       "<td>14709094729</td> </tr> </tbody>\n",
       "        </table>\n",
       "        \n",
       "        <p>Total: 1</p></div>\n",
       "        "
      ],
      "text/plain": [
       "*card_number   exp_date       cvc     zipcode     phone         \n",
       "+------------+ +------------+ +-----+ +---------+ +------------+\n",
       "30232728862999 2023-10-09     709     2832        14709094729   \n",
       " (Total: 1)"
      ]
     },
     "execution_count": 67,
     "metadata": {},
     "output_type": "execute_result"
    }
   ],
   "source": [
    "CreditCard()"
   ]
  },
  {
   "cell_type": "code",
   "execution_count": 22,
   "metadata": {},
   "outputs": [
    {
     "data": {
      "image/svg+xml": [
       "<svg xmlns=\"http://www.w3.org/2000/svg\" xmlns:xlink=\"http://www.w3.org/1999/xlink\" width=\"174pt\" height=\"185pt\" viewBox=\"0.00 0.00 173.50 185.00\">\n",
       "<g id=\"graph0\" class=\"graph\" transform=\"scale(1 1) rotate(0) translate(4 181)\">\n",
       "<title>%3</title>\n",
       "<polygon fill=\"white\" stroke=\"transparent\" points=\"-4,4 -4,-181 169.5,-181 169.5,4 -4,4\"/>\n",
       "<!-- Purchase -->\n",
       "<g id=\"node1\" class=\"node\">\n",
       "<title>Purchase</title>\n",
       "<g id=\"a_node1\"><a xlink:title=\"→ Account\r→ AddOn\r------------------------------\r→ CreditCard\r\">\n",
       "<polygon fill=\"#00ff00\" fill-opacity=\"0.188235\" stroke=\"#00ff00\" stroke-opacity=\"0.188235\" points=\"97,-35 29,-35 29,0 97,0 97,-35\"/>\n",
       "<text text-anchor=\"middle\" x=\"63\" y=\"-14.4\" font-family=\"arial\" font-size=\"12.00\" fill=\"darkgreen\">Purchase</text>\n",
       "</a>\n",
       "</g>\n",
       "</g>\n",
       "<!-- CreditCard -->\n",
       "<g id=\"node2\" class=\"node\">\n",
       "<title>CreditCard</title>\n",
       "<g id=\"a_node2\"><a xlink:title=\"card_number          \r------------------------------\rexp_date             \rcvc                  \rzipcode              \r→ Account\r\">\n",
       "<polygon fill=\"#00ff00\" fill-opacity=\"0.188235\" stroke=\"#00ff00\" stroke-opacity=\"0.188235\" points=\"100.5,-106 25.5,-106 25.5,-71 100.5,-71 100.5,-106\"/>\n",
       "<text text-anchor=\"start\" x=\"33.5\" y=\"-86.4\" font-family=\"arial\" text-decoration=\"underline\" font-size=\"12.00\" fill=\"darkgreen\">CreditCard</text>\n",
       "</a>\n",
       "</g>\n",
       "</g>\n",
       "<!-- CreditCard&#45;&gt;Purchase -->\n",
       "<g id=\"edge1\" class=\"edge\">\n",
       "<title>CreditCard-&gt;Purchase</title>\n",
       "<path fill=\"none\" stroke=\"#000000\" stroke-width=\"0.75\" stroke-dasharray=\"5,2\" stroke-opacity=\"0.250980\" d=\"M63,-70.8C63,-59.95 63,-45.87 63,-35.05\"/>\n",
       "</g>\n",
       "<!-- AddOn -->\n",
       "<g id=\"node3\" class=\"node\">\n",
       "<title>AddOn</title>\n",
       "<g id=\"a_node3\"><a xlink:title=\"addon_id             \r------------------------------\raddon_name           \rprice                \r\">\n",
       "<polygon fill=\"#000000\" fill-opacity=\"0.125490\" stroke=\"transparent\" points=\"165.5,-106 118.5,-106 118.5,-71 165.5,-71 165.5,-106\"/>\n",
       "<text text-anchor=\"start\" x=\"126.5\" y=\"-87\" font-family=\"arial\" text-decoration=\"underline\" font-size=\"10.00\">AddOn</text>\n",
       "</a>\n",
       "</g>\n",
       "</g>\n",
       "<!-- AddOn&#45;&gt;Purchase -->\n",
       "<g id=\"edge2\" class=\"edge\">\n",
       "<title>AddOn-&gt;Purchase</title>\n",
       "<path fill=\"none\" stroke=\"#000000\" stroke-width=\"0.75\" stroke-opacity=\"0.250980\" d=\"M122.88,-70.8C110.46,-59.95 94.33,-45.87 81.95,-35.05\"/>\n",
       "</g>\n",
       "<!-- Account -->\n",
       "<g id=\"node4\" class=\"node\">\n",
       "<title>Account</title>\n",
       "<g id=\"a_node4\"><a xlink:title=\"phone                \r------------------------------\rfirst_name           \rlast_name            \r\">\n",
       "<polygon fill=\"#00ff00\" fill-opacity=\"0.188235\" stroke=\"#00ff00\" stroke-opacity=\"0.188235\" points=\"60,-177 0,-177 0,-142 60,-142 60,-177\"/>\n",
       "<text text-anchor=\"start\" x=\"8\" y=\"-157.4\" font-family=\"arial\" text-decoration=\"underline\" font-size=\"12.00\" fill=\"darkgreen\">Account</text>\n",
       "</a>\n",
       "</g>\n",
       "</g>\n",
       "<!-- Account&#45;&gt;Purchase -->\n",
       "<g id=\"edge3\" class=\"edge\">\n",
       "<title>Account-&gt;Purchase</title>\n",
       "<path fill=\"none\" stroke=\"#000000\" stroke-width=\"0.75\" stroke-opacity=\"0.250980\" d=\"M22.73,-141.85C15.96,-123.85 8.13,-94.57 17,-71 22.2,-57.16 32.9,-44.59 42.66,-35.22\"/>\n",
       "</g>\n",
       "<!-- Account&#45;&gt;CreditCard -->\n",
       "<g id=\"edge4\" class=\"edge\">\n",
       "<title>Account-&gt;CreditCard</title>\n",
       "<path fill=\"none\" stroke=\"#000000\" stroke-width=\"0.75\" stroke-dasharray=\"5,2\" stroke-opacity=\"0.250980\" d=\"M37.99,-141.8C43.18,-130.95 49.91,-116.87 55.09,-106.05\"/>\n",
       "</g>\n",
       "</g>\n",
       "</svg>"
      ],
      "text/plain": [
       "<datajoint.diagram.Diagram at 0x7fe41a7907f0>"
      ]
     },
     "execution_count": 22,
     "metadata": {},
     "output_type": "execute_result"
    }
   ],
   "source": [
    "dj.Diagram(schema)"
   ]
  },
  {
   "cell_type": "code",
   "execution_count": 31,
   "metadata": {},
   "outputs": [
    {
     "data": {
      "text/html": [
       "\n",
       "    \n",
       "    <style type=\"text/css\">\n",
       "        .Table{\n",
       "            border-collapse:collapse;\n",
       "        }\n",
       "        .Table th{\n",
       "            background: #A0A0A0; color: #ffffff; padding:4px; border:#f0e0e0 1px solid;\n",
       "            font-weight: normal; font-family: monospace; font-size: 100%;\n",
       "        }\n",
       "        .Table td{\n",
       "            padding:4px; border:#f0e0e0 1px solid; font-size:100%;\n",
       "        }\n",
       "        .Table tr:nth-child(odd){\n",
       "            background: #ffffff;\n",
       "            color: #000000;\n",
       "        }\n",
       "        .Table tr:nth-child(even){\n",
       "            background: #f3f1ff;\n",
       "            color: #000000;\n",
       "        }\n",
       "        /* Tooltip container */\n",
       "        .djtooltip {\n",
       "        }\n",
       "        /* Tooltip text */\n",
       "        .djtooltip .djtooltiptext {\n",
       "            visibility: hidden;\n",
       "            width: 120px;\n",
       "            background-color: black;\n",
       "            color: #fff;\n",
       "            text-align: center;\n",
       "            padding: 5px 0;\n",
       "            border-radius: 6px;\n",
       "            /* Position the tooltip text - see examples below! */\n",
       "            position: absolute;\n",
       "            z-index: 1;\n",
       "        }\n",
       "        #primary {\n",
       "            font-weight: bold;\n",
       "            color: black;\n",
       "        }\n",
       "        #nonprimary {\n",
       "            font-weight: normal;\n",
       "            color: white;\n",
       "        }\n",
       "\n",
       "        /* Show the tooltip text when you mouse over the tooltip container */\n",
       "        .djtooltip:hover .djtooltiptext {\n",
       "            visibility: visible;\n",
       "        }\n",
       "    </style>\n",
       "    \n",
       "    <b></b>\n",
       "        <div style=\"max-height:1000px;max-width:1500px;overflow:auto;\">\n",
       "        <table border=\"1\" class=\"Table\">\n",
       "            <thead> <tr style=\"text-align: right;\"> <th> <div class=\"djtooltip\">\n",
       "                            <p id=\"primary\">phone</p>\n",
       "                            <span class=\"djtooltiptext\"></span>\n",
       "                        </div></th><th><div class=\"djtooltip\">\n",
       "                            <p id=\"nonprimary\">first_name</p>\n",
       "                            <span class=\"djtooltiptext\"></span>\n",
       "                        </div></th><th><div class=\"djtooltip\">\n",
       "                            <p id=\"nonprimary\">last_name</p>\n",
       "                            <span class=\"djtooltiptext\"></span>\n",
       "                        </div> </th> </tr> </thead>\n",
       "            <tbody> <tr>  </tr> </tbody>\n",
       "        </table>\n",
       "        \n",
       "        <p>Total: 0</p></div>\n",
       "        "
      ],
      "text/plain": [
       "*phone    first_name     last_name    \n",
       "+-------+ +------------+ +-----------+\n",
       "\n",
       " (Total: 0)"
      ]
     },
     "execution_count": 31,
     "metadata": {},
     "output_type": "execute_result"
    }
   ],
   "source": [
    "Account()"
   ]
  },
  {
   "cell_type": "code",
   "execution_count": 34,
   "metadata": {},
   "outputs": [],
   "source": [
    "Account.insert1(dict(\n",
    "    phone=fake.random_int(1_000_000_0000, 9_999_999_9999),\n",
    "    first_name=fake.first_name(),\n",
    "    last_name=fake.last_name()))"
   ]
  },
  {
   "cell_type": "code",
   "execution_count": 36,
   "metadata": {},
   "outputs": [],
   "source": [
    "Account.insert(dict(\n",
    "    phone=fake.random_int(1_000_000_0000, 9_999_999_9999),\n",
    "    first_name=fake.first_name(),\n",
    "    last_name=fake.last_name()) for _ in range(10000))"
   ]
  },
  {
   "cell_type": "code",
   "execution_count": 64,
   "metadata": {},
   "outputs": [
    {
     "data": {
      "text/plain": [
       "65536"
      ]
     },
     "execution_count": 64,
     "metadata": {},
     "output_type": "execute_result"
    }
   ],
   "source": [
    "2**16"
   ]
  },
  {
   "cell_type": "code",
   "execution_count": 37,
   "metadata": {},
   "outputs": [
    {
     "data": {
      "text/html": [
       "\n",
       "    \n",
       "    <style type=\"text/css\">\n",
       "        .Table{\n",
       "            border-collapse:collapse;\n",
       "        }\n",
       "        .Table th{\n",
       "            background: #A0A0A0; color: #ffffff; padding:4px; border:#f0e0e0 1px solid;\n",
       "            font-weight: normal; font-family: monospace; font-size: 100%;\n",
       "        }\n",
       "        .Table td{\n",
       "            padding:4px; border:#f0e0e0 1px solid; font-size:100%;\n",
       "        }\n",
       "        .Table tr:nth-child(odd){\n",
       "            background: #ffffff;\n",
       "            color: #000000;\n",
       "        }\n",
       "        .Table tr:nth-child(even){\n",
       "            background: #f3f1ff;\n",
       "            color: #000000;\n",
       "        }\n",
       "        /* Tooltip container */\n",
       "        .djtooltip {\n",
       "        }\n",
       "        /* Tooltip text */\n",
       "        .djtooltip .djtooltiptext {\n",
       "            visibility: hidden;\n",
       "            width: 120px;\n",
       "            background-color: black;\n",
       "            color: #fff;\n",
       "            text-align: center;\n",
       "            padding: 5px 0;\n",
       "            border-radius: 6px;\n",
       "            /* Position the tooltip text - see examples below! */\n",
       "            position: absolute;\n",
       "            z-index: 1;\n",
       "        }\n",
       "        #primary {\n",
       "            font-weight: bold;\n",
       "            color: black;\n",
       "        }\n",
       "        #nonprimary {\n",
       "            font-weight: normal;\n",
       "            color: white;\n",
       "        }\n",
       "\n",
       "        /* Show the tooltip text when you mouse over the tooltip container */\n",
       "        .djtooltip:hover .djtooltiptext {\n",
       "            visibility: visible;\n",
       "        }\n",
       "    </style>\n",
       "    \n",
       "    <b></b>\n",
       "        <div style=\"max-height:1000px;max-width:1500px;overflow:auto;\">\n",
       "        <table border=\"1\" class=\"Table\">\n",
       "            <thead> <tr style=\"text-align: right;\"> <th> <div class=\"djtooltip\">\n",
       "                            <p id=\"primary\">phone</p>\n",
       "                            <span class=\"djtooltiptext\"></span>\n",
       "                        </div></th><th><div class=\"djtooltip\">\n",
       "                            <p id=\"nonprimary\">first_name</p>\n",
       "                            <span class=\"djtooltiptext\"></span>\n",
       "                        </div></th><th><div class=\"djtooltip\">\n",
       "                            <p id=\"nonprimary\">last_name</p>\n",
       "                            <span class=\"djtooltiptext\"></span>\n",
       "                        </div> </th> </tr> </thead>\n",
       "            <tbody> <tr> <td>10004941735</td>\n",
       "<td>Allison</td>\n",
       "<td>Underwood</td></tr><tr><td>10025366473</td>\n",
       "<td>Christopher</td>\n",
       "<td>Petty</td></tr><tr><td>10044826023</td>\n",
       "<td>Alan</td>\n",
       "<td>Reynolds</td></tr><tr><td>10050836680</td>\n",
       "<td>Andrew</td>\n",
       "<td>Morrison</td></tr><tr><td>10051646762</td>\n",
       "<td>Katherine</td>\n",
       "<td>Delgado</td></tr><tr><td>10057979176</td>\n",
       "<td>Debbie</td>\n",
       "<td>Zimmerman</td></tr><tr><td>10067431110</td>\n",
       "<td>Drew</td>\n",
       "<td>Reed</td></tr><tr><td>10070524656</td>\n",
       "<td>Johnathan</td>\n",
       "<td>Rodriguez</td></tr><tr><td>10072025793</td>\n",
       "<td>Brent</td>\n",
       "<td>Miller</td></tr><tr><td>10077808909</td>\n",
       "<td>Jennifer</td>\n",
       "<td>Young</td></tr><tr><td>10095411023</td>\n",
       "<td>Ashley</td>\n",
       "<td>Jones</td></tr><tr><td>10096339067</td>\n",
       "<td>Stephanie</td>\n",
       "<td>Mullins</td> </tr> </tbody>\n",
       "        </table>\n",
       "        <p>...</p>\n",
       "        <p>Total: 10003</p></div>\n",
       "        "
      ],
      "text/plain": [
       "*phone         first_name     last_name    \n",
       "+------------+ +------------+ +-----------+\n",
       "10004941735    Allison        Underwood    \n",
       "10025366473    Christopher    Petty        \n",
       "10044826023    Alan           Reynolds     \n",
       "10050836680    Andrew         Morrison     \n",
       "10051646762    Katherine      Delgado      \n",
       "10057979176    Debbie         Zimmerman    \n",
       "10067431110    Drew           Reed         \n",
       "10070524656    Johnathan      Rodriguez    \n",
       "10072025793    Brent          Miller       \n",
       "10077808909    Jennifer       Young        \n",
       "10095411023    Ashley         Jones        \n",
       "10096339067    Stephanie      Mullins      \n",
       "   ...\n",
       " (Total: 10003)"
      ]
     },
     "execution_count": 37,
     "metadata": {},
     "output_type": "execute_result"
    }
   ],
   "source": [
    "Account()"
   ]
  },
  {
   "cell_type": "code",
   "execution_count": 38,
   "metadata": {},
   "outputs": [
    {
     "data": {
      "text/html": [
       "\n",
       "    \n",
       "    <style type=\"text/css\">\n",
       "        .Table{\n",
       "            border-collapse:collapse;\n",
       "        }\n",
       "        .Table th{\n",
       "            background: #A0A0A0; color: #ffffff; padding:4px; border:#f0e0e0 1px solid;\n",
       "            font-weight: normal; font-family: monospace; font-size: 100%;\n",
       "        }\n",
       "        .Table td{\n",
       "            padding:4px; border:#f0e0e0 1px solid; font-size:100%;\n",
       "        }\n",
       "        .Table tr:nth-child(odd){\n",
       "            background: #ffffff;\n",
       "            color: #000000;\n",
       "        }\n",
       "        .Table tr:nth-child(even){\n",
       "            background: #f3f1ff;\n",
       "            color: #000000;\n",
       "        }\n",
       "        /* Tooltip container */\n",
       "        .djtooltip {\n",
       "        }\n",
       "        /* Tooltip text */\n",
       "        .djtooltip .djtooltiptext {\n",
       "            visibility: hidden;\n",
       "            width: 120px;\n",
       "            background-color: black;\n",
       "            color: #fff;\n",
       "            text-align: center;\n",
       "            padding: 5px 0;\n",
       "            border-radius: 6px;\n",
       "            /* Position the tooltip text - see examples below! */\n",
       "            position: absolute;\n",
       "            z-index: 1;\n",
       "        }\n",
       "        #primary {\n",
       "            font-weight: bold;\n",
       "            color: black;\n",
       "        }\n",
       "        #nonprimary {\n",
       "            font-weight: normal;\n",
       "            color: white;\n",
       "        }\n",
       "\n",
       "        /* Show the tooltip text when you mouse over the tooltip container */\n",
       "        .djtooltip:hover .djtooltiptext {\n",
       "            visibility: visible;\n",
       "        }\n",
       "    </style>\n",
       "    \n",
       "    <b></b>\n",
       "        <div style=\"max-height:1000px;max-width:1500px;overflow:auto;\">\n",
       "        <table border=\"1\" class=\"Table\">\n",
       "            <thead> <tr style=\"text-align: right;\"> <th> <div class=\"djtooltip\">\n",
       "                            <p id=\"primary\">card_number</p>\n",
       "                            <span class=\"djtooltiptext\"></span>\n",
       "                        </div></th><th><div class=\"djtooltip\">\n",
       "                            <p id=\"nonprimary\">exp_date</p>\n",
       "                            <span class=\"djtooltiptext\"></span>\n",
       "                        </div></th><th><div class=\"djtooltip\">\n",
       "                            <p id=\"nonprimary\">cvc</p>\n",
       "                            <span class=\"djtooltiptext\"></span>\n",
       "                        </div></th><th><div class=\"djtooltip\">\n",
       "                            <p id=\"nonprimary\">zipcode</p>\n",
       "                            <span class=\"djtooltiptext\"></span>\n",
       "                        </div></th><th><div class=\"djtooltip\">\n",
       "                            <p id=\"nonprimary\">phone</p>\n",
       "                            <span class=\"djtooltiptext\"></span>\n",
       "                        </div> </th> </tr> </thead>\n",
       "            <tbody> <tr>  </tr> </tbody>\n",
       "        </table>\n",
       "        \n",
       "        <p>Total: 0</p></div>\n",
       "        "
      ],
      "text/plain": [
       "*card_number   exp_date     cvc     zipcode     phone    \n",
       "+------------+ +----------+ +-----+ +---------+ +-------+\n",
       "\n",
       " (Total: 0)"
      ]
     },
     "execution_count": 38,
     "metadata": {},
     "output_type": "execute_result"
    }
   ],
   "source": [
    "CreditCard()"
   ]
  },
  {
   "cell_type": "code",
   "execution_count": 44,
   "metadata": {},
   "outputs": [],
   "source": [
    "keys = Account.fetch(\"KEY\")"
   ]
  },
  {
   "cell_type": "code",
   "execution_count": 46,
   "metadata": {},
   "outputs": [],
   "source": [
    "import random"
   ]
  },
  {
   "cell_type": "code",
   "execution_count": null,
   "metadata": {},
   "outputs": [],
   "source": [
    "fake.credit_card_number"
   ]
  },
  {
   "cell_type": "code",
   "execution_count": 68,
   "metadata": {},
   "outputs": [],
   "source": [
    "CreditCard.insert1(\n",
    "    dict(random.choice(keys), \n",
    "         zipcode=random.randint(10000,99999), \n",
    "         card_number=int(fake.credit_card_number()),\n",
    "         cvc=random.randint(1, 999), \n",
    "         exp_date=fake.future_date()))"
   ]
  },
  {
   "cell_type": "code",
   "execution_count": 73,
   "metadata": {},
   "outputs": [],
   "source": [
    "CreditCard.insert(\n",
    "    dict(random.choice(keys), \n",
    "         zipcode=random.randint(10000,99999), \n",
    "         card_number=int(fake.credit_card_number()),\n",
    "         cvc=random.randint(1, 999), \n",
    "         exp_date=fake.future_date()) for _ in range(15000))"
   ]
  },
  {
   "cell_type": "code",
   "execution_count": 76,
   "metadata": {},
   "outputs": [
    {
     "data": {
      "image/svg+xml": [
       "<svg xmlns=\"http://www.w3.org/2000/svg\" xmlns:xlink=\"http://www.w3.org/1999/xlink\" width=\"174pt\" height=\"185pt\" viewBox=\"0.00 0.00 173.50 185.00\">\n",
       "<g id=\"graph0\" class=\"graph\" transform=\"scale(1 1) rotate(0) translate(4 181)\">\n",
       "<title>%3</title>\n",
       "<polygon fill=\"white\" stroke=\"transparent\" points=\"-4,4 -4,-181 169.5,-181 169.5,4 -4,4\"/>\n",
       "<!-- Purchase -->\n",
       "<g id=\"node1\" class=\"node\">\n",
       "<title>Purchase</title>\n",
       "<g id=\"a_node1\"><a xlink:title=\"→ Account\r→ AddOn\r------------------------------\r→ CreditCard\r\">\n",
       "<polygon fill=\"#00ff00\" fill-opacity=\"0.188235\" stroke=\"#00ff00\" stroke-opacity=\"0.188235\" points=\"97,-35 29,-35 29,0 97,0 97,-35\"/>\n",
       "<text text-anchor=\"middle\" x=\"63\" y=\"-14.4\" font-family=\"arial\" font-size=\"12.00\" fill=\"darkgreen\">Purchase</text>\n",
       "</a>\n",
       "</g>\n",
       "</g>\n",
       "<!-- CreditCard -->\n",
       "<g id=\"node2\" class=\"node\">\n",
       "<title>CreditCard</title>\n",
       "<g id=\"a_node2\"><a xlink:title=\"card_number          \r------------------------------\rexp_date             \rcvc                  \rzipcode              \r→ Account\r\">\n",
       "<polygon fill=\"#00ff00\" fill-opacity=\"0.188235\" stroke=\"#00ff00\" stroke-opacity=\"0.188235\" points=\"100.5,-106 25.5,-106 25.5,-71 100.5,-71 100.5,-106\"/>\n",
       "<text text-anchor=\"start\" x=\"33.5\" y=\"-86.4\" font-family=\"arial\" text-decoration=\"underline\" font-size=\"12.00\" fill=\"darkgreen\">CreditCard</text>\n",
       "</a>\n",
       "</g>\n",
       "</g>\n",
       "<!-- CreditCard&#45;&gt;Purchase -->\n",
       "<g id=\"edge1\" class=\"edge\">\n",
       "<title>CreditCard-&gt;Purchase</title>\n",
       "<path fill=\"none\" stroke=\"#000000\" stroke-width=\"0.75\" stroke-dasharray=\"5,2\" stroke-opacity=\"0.250980\" d=\"M63,-70.8C63,-59.95 63,-45.87 63,-35.05\"/>\n",
       "</g>\n",
       "<!-- AddOn -->\n",
       "<g id=\"node3\" class=\"node\">\n",
       "<title>AddOn</title>\n",
       "<g id=\"a_node3\"><a xlink:title=\"addon_id             \r------------------------------\raddon_name           \rprice                \r\">\n",
       "<polygon fill=\"#000000\" fill-opacity=\"0.125490\" stroke=\"transparent\" points=\"165.5,-106 118.5,-106 118.5,-71 165.5,-71 165.5,-106\"/>\n",
       "<text text-anchor=\"start\" x=\"126.5\" y=\"-87\" font-family=\"arial\" text-decoration=\"underline\" font-size=\"10.00\">AddOn</text>\n",
       "</a>\n",
       "</g>\n",
       "</g>\n",
       "<!-- AddOn&#45;&gt;Purchase -->\n",
       "<g id=\"edge2\" class=\"edge\">\n",
       "<title>AddOn-&gt;Purchase</title>\n",
       "<path fill=\"none\" stroke=\"#000000\" stroke-width=\"0.75\" stroke-opacity=\"0.250980\" d=\"M122.88,-70.8C110.46,-59.95 94.33,-45.87 81.95,-35.05\"/>\n",
       "</g>\n",
       "<!-- Account -->\n",
       "<g id=\"node4\" class=\"node\">\n",
       "<title>Account</title>\n",
       "<g id=\"a_node4\"><a xlink:title=\"phone                \r------------------------------\rfirst_name           \rlast_name            \r\">\n",
       "<polygon fill=\"#00ff00\" fill-opacity=\"0.188235\" stroke=\"#00ff00\" stroke-opacity=\"0.188235\" points=\"60,-177 0,-177 0,-142 60,-142 60,-177\"/>\n",
       "<text text-anchor=\"start\" x=\"8\" y=\"-157.4\" font-family=\"arial\" text-decoration=\"underline\" font-size=\"12.00\" fill=\"darkgreen\">Account</text>\n",
       "</a>\n",
       "</g>\n",
       "</g>\n",
       "<!-- Account&#45;&gt;Purchase -->\n",
       "<g id=\"edge3\" class=\"edge\">\n",
       "<title>Account-&gt;Purchase</title>\n",
       "<path fill=\"none\" stroke=\"#000000\" stroke-width=\"0.75\" stroke-opacity=\"0.250980\" d=\"M22.73,-141.85C15.96,-123.85 8.13,-94.57 17,-71 22.2,-57.16 32.9,-44.59 42.66,-35.22\"/>\n",
       "</g>\n",
       "<!-- Account&#45;&gt;CreditCard -->\n",
       "<g id=\"edge4\" class=\"edge\">\n",
       "<title>Account-&gt;CreditCard</title>\n",
       "<path fill=\"none\" stroke=\"#000000\" stroke-width=\"0.75\" stroke-dasharray=\"5,2\" stroke-opacity=\"0.250980\" d=\"M37.99,-141.8C43.18,-130.95 49.91,-116.87 55.09,-106.05\"/>\n",
       "</g>\n",
       "</g>\n",
       "</svg>"
      ],
      "text/plain": [
       "<datajoint.diagram.Diagram at 0x7fe4192eea00>"
      ]
     },
     "execution_count": 76,
     "metadata": {},
     "output_type": "execute_result"
    }
   ],
   "source": [
    "dj.Diagram(schema)"
   ]
  },
  {
   "cell_type": "code",
   "execution_count": 89,
   "metadata": {},
   "outputs": [],
   "source": [
    "purchase_key = ((Account & CreditCard) * AddOn).fetch('KEY', limit=1)[0]"
   ]
  },
  {
   "cell_type": "code",
   "execution_count": 93,
   "metadata": {},
   "outputs": [],
   "source": [
    "Purchase.insert1(dict(purchase_key, **(CreditCard & purchase_key).fetch('KEY')[0]))"
   ]
  },
  {
   "cell_type": "code",
   "execution_count": 94,
   "metadata": {},
   "outputs": [
    {
     "data": {
      "text/html": [
       "\n",
       "    \n",
       "    <style type=\"text/css\">\n",
       "        .Table{\n",
       "            border-collapse:collapse;\n",
       "        }\n",
       "        .Table th{\n",
       "            background: #A0A0A0; color: #ffffff; padding:4px; border:#f0e0e0 1px solid;\n",
       "            font-weight: normal; font-family: monospace; font-size: 100%;\n",
       "        }\n",
       "        .Table td{\n",
       "            padding:4px; border:#f0e0e0 1px solid; font-size:100%;\n",
       "        }\n",
       "        .Table tr:nth-child(odd){\n",
       "            background: #ffffff;\n",
       "            color: #000000;\n",
       "        }\n",
       "        .Table tr:nth-child(even){\n",
       "            background: #f3f1ff;\n",
       "            color: #000000;\n",
       "        }\n",
       "        /* Tooltip container */\n",
       "        .djtooltip {\n",
       "        }\n",
       "        /* Tooltip text */\n",
       "        .djtooltip .djtooltiptext {\n",
       "            visibility: hidden;\n",
       "            width: 120px;\n",
       "            background-color: black;\n",
       "            color: #fff;\n",
       "            text-align: center;\n",
       "            padding: 5px 0;\n",
       "            border-radius: 6px;\n",
       "            /* Position the tooltip text - see examples below! */\n",
       "            position: absolute;\n",
       "            z-index: 1;\n",
       "        }\n",
       "        #primary {\n",
       "            font-weight: bold;\n",
       "            color: black;\n",
       "        }\n",
       "        #nonprimary {\n",
       "            font-weight: normal;\n",
       "            color: white;\n",
       "        }\n",
       "\n",
       "        /* Show the tooltip text when you mouse over the tooltip container */\n",
       "        .djtooltip:hover .djtooltiptext {\n",
       "            visibility: visible;\n",
       "        }\n",
       "    </style>\n",
       "    \n",
       "    <b></b>\n",
       "        <div style=\"max-height:1000px;max-width:1500px;overflow:auto;\">\n",
       "        <table border=\"1\" class=\"Table\">\n",
       "            <thead> <tr style=\"text-align: right;\"> <th> <div class=\"djtooltip\">\n",
       "                            <p id=\"primary\">phone</p>\n",
       "                            <span class=\"djtooltiptext\"></span>\n",
       "                        </div></th><th><div class=\"djtooltip\">\n",
       "                            <p id=\"primary\">addon_id</p>\n",
       "                            <span class=\"djtooltiptext\"></span>\n",
       "                        </div></th><th><div class=\"djtooltip\">\n",
       "                            <p id=\"nonprimary\">card_number</p>\n",
       "                            <span class=\"djtooltiptext\"></span>\n",
       "                        </div> </th> </tr> </thead>\n",
       "            <tbody> <tr> <td>10025366473</td>\n",
       "<td>3</td>\n",
       "<td>376154262563571</td> </tr> </tbody>\n",
       "        </table>\n",
       "        \n",
       "        <p>Total: 1</p></div>\n",
       "        "
      ],
      "text/plain": [
       "*phone         *addon_id    card_number   \n",
       "+------------+ +----------+ +------------+\n",
       "10025366473    3            37615426256357\n",
       " (Total: 1)"
      ]
     },
     "execution_count": 94,
     "metadata": {},
     "output_type": "execute_result"
    }
   ],
   "source": [
    "Purchase()"
   ]
  },
  {
   "cell_type": "code",
   "execution_count": 97,
   "metadata": {},
   "outputs": [
    {
     "data": {
      "text/plain": [
       "'SELECT `phone`,`addon_id`,`card_number`,`addon_name`,`price`,`first_name`,`last_name` FROM `app`.`purchase` NATURAL JOIN `app`.`#add_on` NATURAL JOIN `app`.`account`'"
      ]
     },
     "execution_count": 97,
     "metadata": {},
     "output_type": "execute_result"
    }
   ],
   "source": [
    "(Purchase * AddOn * Account).make_sql()"
   ]
  },
  {
   "cell_type": "code",
   "execution_count": null,
   "metadata": {},
   "outputs": [],
   "source": []
  }
 ],
 "metadata": {
  "kernelspec": {
   "display_name": "Python 3",
   "language": "python",
   "name": "python3"
  },
  "language_info": {
   "codemirror_mode": {
    "name": "ipython",
    "version": 3
   },
   "file_extension": ".py",
   "mimetype": "text/x-python",
   "name": "python",
   "nbconvert_exporter": "python",
   "pygments_lexer": "ipython3",
   "version": "3.9.17"
  },
  "orig_nbformat": 4
 },
 "nbformat": 4,
 "nbformat_minor": 2
}
