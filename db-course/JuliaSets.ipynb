{
 "cells": [
  {
   "cell_type": "markdown",
   "id": "8607eb0e",
   "metadata": {},
   "source": [
    "# Julia Sets"
   ]
  },
  {
   "cell_type": "code",
   "execution_count": null,
   "id": "87bd1a0f",
   "metadata": {},
   "outputs": [],
   "source": [
    "%matplotlib inline\n",
    "from matplotlib import pyplot as plt\n",
    "import numpy as np"
   ]
  },
  {
   "cell_type": "code",
   "execution_count": null,
   "id": "3f5a75af",
   "metadata": {},
   "outputs": [],
   "source": [
    "def julia(c, size=256, center=(0.0, 0.0), zoom=1.0, iters=256):\n",
    "    x, y = np.meshgrid(\n",
    "        np.linspace(-1, 1, size)/zoom + center[0], \n",
    "        np.linspace(-1, 1, size)/zoom + center[1], \n",
    "    )\n",
    "    z = x + 1j * y\n",
    "    im = np.zeros(z.shape)\n",
    "    ix = np.ones(z.shape, dtype=bool)\n",
    "    for i in range(iters):\n",
    "        z[ix] = z[ix] ** 2 + c\n",
    "        ix = np.abs(z) < 2\n",
    "        im += ix\n",
    "    return im"
   ]
  },
  {
   "cell_type": "code",
   "execution_count": null,
   "id": "79556895",
   "metadata": {},
   "outputs": [],
   "source": [
    "plt.imshow(julia(-0.4+0.6j), cmap='magma')\n",
    "plt.axis(False);"
   ]
  },
  {
   "cell_type": "code",
   "execution_count": null,
   "id": "a43baa42",
   "metadata": {},
   "outputs": [],
   "source": [
    "plt.imshow(julia(-0.4+0.6j, center=(0.34, -0.30), zoom=10000.0), cmap='magma')\n",
    "plt.axis(False);"
   ]
  },
  {
   "cell_type": "code",
   "execution_count": null,
   "id": "3c63ce73",
   "metadata": {},
   "outputs": [],
   "source": [
    "c = (\n",
    "    -0.4 + 0.6j, \n",
    "    -0.74543 + 0.11301j, \n",
    "    -0.75 + 0.11j, \n",
    "    -0.1 + 0.651j,\n",
    "    -0.835 - 0.2321j,\n",
    "    -0.70176 - 0.3842j,\n",
    ")"
   ]
  },
  {
   "cell_type": "code",
   "execution_count": null,
   "id": "cfc85940",
   "metadata": {},
   "outputs": [],
   "source": [
    "noise_level = 5.0\n",
    "\n",
    "fig, ax = plt.subplots(3, 2, figsize=(10, 16))\n",
    "for c_, a in zip(c, ax.flatten()):\n",
    "    img = julia(c_, zoom=0.5) \n",
    "    img += np.random.randn(*img.shape) * noise_level\n",
    "    a.imshow(img, cmap='magma')\n",
    "    a.axis(False)"
   ]
  },
  {
   "cell_type": "markdown",
   "id": "b01e70d9",
   "metadata": {},
   "source": [
    "# Image processing"
   ]
  },
  {
   "cell_type": "code",
   "execution_count": null,
   "id": "b4069a34",
   "metadata": {},
   "outputs": [],
   "source": [
    "from skimage import data\n",
    "from skimage import filters"
   ]
  },
  {
   "cell_type": "code",
   "execution_count": null,
   "id": "39bc25c7",
   "metadata": {},
   "outputs": [],
   "source": [
    "from skimage.morphology import disk\n",
    "from skimage import restoration"
   ]
  },
  {
   "cell_type": "code",
   "execution_count": null,
   "id": "aa225a15",
   "metadata": {},
   "outputs": [],
   "source": [
    "noise_level = 50.0\n",
    "img = julia(-0.4+0.6j, size=200)\n",
    "noise_img = img + np.random.randn(*img.shape) * noise_level\n",
    "median_img = filters.median(noise_img, disk(3))\n",
    "tv_img = restoration.denoise_tv_chambolle(noise_img, weight=20.0)\n",
    "wavelet_img = restoration.denoise_wavelet(noise_img)\n",
    "gaussian_img = filters.gaussian(noise_img, sigma=1.8)"
   ]
  },
  {
   "cell_type": "code",
   "execution_count": null,
   "id": "d60ecafd",
   "metadata": {
    "scrolled": false
   },
   "outputs": [],
   "source": [
    "fig, ax = plt.subplots(3, 2, figsize=(12, 18))\n",
    "for a, (im, title) in zip(\n",
    "    ax.flatten(),\n",
    "    ((img, 'original'), \n",
    "     (noise_img, 'original+noise'),\n",
    "     (gaussian_img, 'gaussian'),\n",
    "     (median_img, 'median'), \n",
    "     (wavelet_img, 'wavelet'),\n",
    "     (tv_img, 'tv'), )):\n",
    "    a.imshow(im, cmap='magma', vmin=0, vmax=255)\n",
    "    a.axis(False)\n",
    "    a.set_title(title)"
   ]
  },
  {
   "cell_type": "markdown",
   "id": "b495345a",
   "metadata": {},
   "source": [
    "# DataJoint Pipeline"
   ]
  },
  {
   "cell_type": "code",
   "execution_count": null,
   "id": "9015c43e",
   "metadata": {},
   "outputs": [],
   "source": [
    "import datajoint as dj"
   ]
  },
  {
   "cell_type": "code",
   "execution_count": null,
   "id": "62067735",
   "metadata": {},
   "outputs": [],
   "source": [
    "schema = dj.Schema('julia')"
   ]
  },
  {
   "cell_type": "code",
   "execution_count": null,
   "id": "4c4ef4a9",
   "metadata": {},
   "outputs": [],
   "source": [
    "img.max()"
   ]
  },
  {
   "cell_type": "code",
   "execution_count": null,
   "id": "5630641b",
   "metadata": {},
   "outputs": [],
   "source": []
  }
 ],
 "metadata": {
  "kernelspec": {
   "display_name": "benv",
   "language": "python",
   "name": "benv"
  },
  "language_info": {
   "codemirror_mode": {
    "name": "ipython",
    "version": 3
   },
   "file_extension": ".py",
   "mimetype": "text/x-python",
   "name": "python",
   "nbconvert_exporter": "python",
   "pygments_lexer": "ipython3",
   "version": "3.10.4"
  }
 },
 "nbformat": 4,
 "nbformat_minor": 5
}
